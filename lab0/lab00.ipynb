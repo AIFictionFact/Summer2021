{
 "cells": [
  {
   "cell_type": "markdown",
   "metadata": {},
   "source": [
    "<h1>AI in Fact and Fiction - Summer 2020</h1>\n",
    "<h2>Introduction to the Course</h2>\n",
    "\n",
    "<p><a href=\"https://colab.research.google.com/github/AIFictionFact/Summer2020/blob/master/lab00/lab00.ipynb\">Run this notebook on collab.</a></p>"
   ]
  },
  {
   "cell_type": "markdown",
   "metadata": {},
   "source": [
    "<p>In this lab, you will test out how the labs work during rest of the semester.</p>\n",
    "\n",
    "<p>Estimated Time Needed: <b>10 minutes</b></p>\n",
    "\n",
    "<hr>"
   ]
  },
  {
   "cell_type": "markdown",
   "metadata": {},
   "source": [
    "<h3>Let's get started!</h3>"
   ]
  },
  {
   "cell_type": "markdown",
   "metadata": {},
   "source": [
    "We will be using python for the programming labs. While you are not expected to be an expert in python, basic familiarity with the programming language is expected. However, even if you are a novice to python, do not worry! It is an easy language to learn! Python is one of the most widely used programming languages, and it is an excellent first language for new programmers. "
   ]
  },
  {
   "cell_type": "markdown",
   "metadata": {},
   "source": [
    "A simple way of producing text output in Python is the print command. A simple way of producing text output in Python is the print command. For instance, the first line in the program below \"prints\" the number 7 into the output section.\n",
    "\n",
    "The print command can also output the results of mathematical operations. With this, Python becomes a convenient calculator."
   ]
  },
  {
   "cell_type": "code",
   "execution_count": null,
   "metadata": {},
   "outputs": [],
   "source": [
    "print(7)\n",
    "print(3*5*7*9)"
   ]
  },
  {
   "cell_type": "markdown",
   "metadata": {},
   "source": [
    "Text output cannot be printed as simply as numbers. Take a look at what happens when a line of text is placed inside print's parentheses. Can you please fix the error in the code below?"
   ]
  },
  {
   "cell_type": "code",
   "execution_count": null,
   "metadata": {},
   "outputs": [],
   "source": [
    "print(very bad code in progress)"
   ]
  },
  {
   "cell_type": "markdown",
   "metadata": {},
   "source": [
    "Commands like print() that produce text output are a little bit boring!\n",
    "\n",
    "Instead, we'll learn Python with the help of a turtle.\n",
    "\n",
    "We won’t actually be interacting with any reptiles! \"Turtle drawing\" is a way of creating pictures where we act as if our program is giving commands to a meticulous, patient, and obedient turtle. The turtle walks around the canvas dragging a paintbrush behind her.\n",
    "\n",
    "Our drawings are a result of the turtle's movements, viewed from above.\n",
    "\n",
    "The 'turtle' package gives your program the ability to create turtle drawings. \n",
    "\n",
    "First we need to install turtle.\n"
   ]
  },
  {
   "cell_type": "code",
   "execution_count": null,
   "metadata": {},
   "outputs": [],
   "source": [
    "!pip3 install ColabTurtle"
   ]
  },
  {
   "cell_type": "markdown",
   "metadata": {},
   "source": [
    "Next, let's import the library, and initialize it."
   ]
  },
  {
   "cell_type": "code",
   "execution_count": null,
   "metadata": {},
   "outputs": [],
   "source": [
    "from ColabTurtle.Turtle import *"
   ]
  },
  {
   "cell_type": "markdown",
   "metadata": {},
   "source": [
    "Let's have some fun with the turtle! The 'forward' command tells the turtle to walk forward 300 steps. Please remember to initialize the turtle before every drawing."
   ]
  },
  {
   "cell_type": "code",
   "execution_count": null,
   "metadata": {},
   "outputs": [],
   "source": [
    "initializeTurtle()\n",
    "forward(200) "
   ]
  },
  {
   "cell_type": "markdown",
   "metadata": {},
   "source": [
    "The left() method is used to turn the turtle leftward with the number of degrees provided as an argument to the method.\n",
    "Using the 'forward(steps)' and the 'left(degrees)' methods, can you try to draw a square?"
   ]
  },
  {
   "cell_type": "code",
   "execution_count": null,
   "metadata": {},
   "outputs": [],
   "source": [
    "initializeTurtle()\n",
    "forward(200)\n",
    "left(90)\n",
    "# complete the remaining steps to draw a square"
   ]
  },
  {
   "cell_type": "markdown",
   "metadata": {},
   "source": [
    "Optional: Can you draw a hexagon?"
   ]
  },
  {
   "cell_type": "code",
   "execution_count": null,
   "metadata": {},
   "outputs": [],
   "source": [
    "initializeTurtle()\n",
    "# complete the remaining steps to draw a hexagaon"
   ]
  },
  {
   "cell_type": "markdown",
   "metadata": {},
   "source": [
    "That's it for Lab00! After completing the lab, please download the python code (File -> Download .py), and submit that in LMS."
   ]
  }
 ],
 "metadata": {
  "language_info": {
   "codemirror_mode": {
    "name": "ipython",
    "version": 3
   },
   "file_extension": ".py",
   "mimetype": "text/x-python",
   "name": "python",
   "nbconvert_exporter": "python",
   "pygments_lexer": "ipython3",
   "version": "3.8.0-final"
  },
  "orig_nbformat": 2,
  "kernelspec": {
   "name": "python3",
   "display_name": "Python 3"
  }
 },
 "nbformat": 4,
 "nbformat_minor": 2
}