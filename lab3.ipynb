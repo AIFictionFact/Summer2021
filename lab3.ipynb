{
  "nbformat": 4,
  "nbformat_minor": 0,
  "metadata": {
    "language_info": {
      "codemirror_mode": {
        "name": "ipython",
        "version": 3
      },
      "file_extension": ".py",
      "mimetype": "text/x-python",
      "name": "python",
      "nbconvert_exporter": "python",
      "pygments_lexer": "ipython3",
      "version": "3.8.0-final"
    },
    "orig_nbformat": 2,
    "kernelspec": {
      "name": "python38064bit380pyenvc7bb6ca2a3f9479fafa53265e2886bf3",
      "display_name": "Python 3.8.0 64-bit ('3.8.0': pyenv)"
    },
    "colab": {
      "name": "lab3.ipynb",
      "provenance": [],
      "collapsed_sections": [],
      "toc_visible": true
    },
    "widgets": {
      "application/vnd.jupyter.widget-state+json": {
        "45d05067404847f88aaee9fc386f39f6": {
          "model_module": "@jupyter-widgets/controls",
          "model_name": "HBoxModel",
          "state": {
            "_view_name": "HBoxView",
            "_dom_classes": [],
            "_model_name": "HBoxModel",
            "_view_module": "@jupyter-widgets/controls",
            "_model_module_version": "1.5.0",
            "_view_count": null,
            "_view_module_version": "1.5.0",
            "box_style": "",
            "layout": "IPY_MODEL_2f7f20c3104b4f70b852e2572b3ce785",
            "_model_module": "@jupyter-widgets/controls",
            "children": [
              "IPY_MODEL_2d77311df05f44b3aa3d677244847e4b",
              "IPY_MODEL_808c4d862bcd4c87bfa2be3a077ddd58"
            ]
          }
        },
        "2f7f20c3104b4f70b852e2572b3ce785": {
          "model_module": "@jupyter-widgets/base",
          "model_name": "LayoutModel",
          "state": {
            "_view_name": "LayoutView",
            "grid_template_rows": null,
            "right": null,
            "justify_content": null,
            "_view_module": "@jupyter-widgets/base",
            "overflow": null,
            "_model_module_version": "1.2.0",
            "_view_count": null,
            "flex_flow": null,
            "width": null,
            "min_width": null,
            "border": null,
            "align_items": null,
            "bottom": null,
            "_model_module": "@jupyter-widgets/base",
            "top": null,
            "grid_column": null,
            "overflow_y": null,
            "overflow_x": null,
            "grid_auto_flow": null,
            "grid_area": null,
            "grid_template_columns": null,
            "flex": null,
            "_model_name": "LayoutModel",
            "justify_items": null,
            "grid_row": null,
            "max_height": null,
            "align_content": null,
            "visibility": null,
            "align_self": null,
            "height": null,
            "min_height": null,
            "padding": null,
            "grid_auto_rows": null,
            "grid_gap": null,
            "max_width": null,
            "order": null,
            "_view_module_version": "1.2.0",
            "grid_template_areas": null,
            "object_position": null,
            "object_fit": null,
            "grid_auto_columns": null,
            "margin": null,
            "display": null,
            "left": null
          }
        },
        "2d77311df05f44b3aa3d677244847e4b": {
          "model_module": "@jupyter-widgets/controls",
          "model_name": "FloatProgressModel",
          "state": {
            "_view_name": "ProgressView",
            "style": "IPY_MODEL_49cab8ed24ed409bb9cbb62230371ec2",
            "_dom_classes": [],
            "description": "Downloading: 100%",
            "_model_name": "FloatProgressModel",
            "bar_style": "success",
            "max": 762,
            "_view_module": "@jupyter-widgets/controls",
            "_model_module_version": "1.5.0",
            "value": 762,
            "_view_count": null,
            "_view_module_version": "1.5.0",
            "orientation": "horizontal",
            "min": 0,
            "description_tooltip": null,
            "_model_module": "@jupyter-widgets/controls",
            "layout": "IPY_MODEL_2171b0531d134fb8b6ffaf3f9532e36e"
          }
        },
        "808c4d862bcd4c87bfa2be3a077ddd58": {
          "model_module": "@jupyter-widgets/controls",
          "model_name": "HTMLModel",
          "state": {
            "_view_name": "HTMLView",
            "style": "IPY_MODEL_7b4dd3727b454d16b1fb07bea3844d73",
            "_dom_classes": [],
            "description": "",
            "_model_name": "HTMLModel",
            "placeholder": "​",
            "_view_module": "@jupyter-widgets/controls",
            "_model_module_version": "1.5.0",
            "value": " 762/762 [00:00&lt;00:00, 3.93kB/s]",
            "_view_count": null,
            "_view_module_version": "1.5.0",
            "description_tooltip": null,
            "_model_module": "@jupyter-widgets/controls",
            "layout": "IPY_MODEL_c9e7510a29fa4c6f93aa50431b24d65a"
          }
        },
        "49cab8ed24ed409bb9cbb62230371ec2": {
          "model_module": "@jupyter-widgets/controls",
          "model_name": "ProgressStyleModel",
          "state": {
            "_view_name": "StyleView",
            "_model_name": "ProgressStyleModel",
            "description_width": "initial",
            "_view_module": "@jupyter-widgets/base",
            "_model_module_version": "1.5.0",
            "_view_count": null,
            "_view_module_version": "1.2.0",
            "bar_color": null,
            "_model_module": "@jupyter-widgets/controls"
          }
        },
        "2171b0531d134fb8b6ffaf3f9532e36e": {
          "model_module": "@jupyter-widgets/base",
          "model_name": "LayoutModel",
          "state": {
            "_view_name": "LayoutView",
            "grid_template_rows": null,
            "right": null,
            "justify_content": null,
            "_view_module": "@jupyter-widgets/base",
            "overflow": null,
            "_model_module_version": "1.2.0",
            "_view_count": null,
            "flex_flow": null,
            "width": null,
            "min_width": null,
            "border": null,
            "align_items": null,
            "bottom": null,
            "_model_module": "@jupyter-widgets/base",
            "top": null,
            "grid_column": null,
            "overflow_y": null,
            "overflow_x": null,
            "grid_auto_flow": null,
            "grid_area": null,
            "grid_template_columns": null,
            "flex": null,
            "_model_name": "LayoutModel",
            "justify_items": null,
            "grid_row": null,
            "max_height": null,
            "align_content": null,
            "visibility": null,
            "align_self": null,
            "height": null,
            "min_height": null,
            "padding": null,
            "grid_auto_rows": null,
            "grid_gap": null,
            "max_width": null,
            "order": null,
            "_view_module_version": "1.2.0",
            "grid_template_areas": null,
            "object_position": null,
            "object_fit": null,
            "grid_auto_columns": null,
            "margin": null,
            "display": null,
            "left": null
          }
        },
        "7b4dd3727b454d16b1fb07bea3844d73": {
          "model_module": "@jupyter-widgets/controls",
          "model_name": "DescriptionStyleModel",
          "state": {
            "_view_name": "StyleView",
            "_model_name": "DescriptionStyleModel",
            "description_width": "",
            "_view_module": "@jupyter-widgets/base",
            "_model_module_version": "1.5.0",
            "_view_count": null,
            "_view_module_version": "1.2.0",
            "_model_module": "@jupyter-widgets/controls"
          }
        },
        "c9e7510a29fa4c6f93aa50431b24d65a": {
          "model_module": "@jupyter-widgets/base",
          "model_name": "LayoutModel",
          "state": {
            "_view_name": "LayoutView",
            "grid_template_rows": null,
            "right": null,
            "justify_content": null,
            "_view_module": "@jupyter-widgets/base",
            "overflow": null,
            "_model_module_version": "1.2.0",
            "_view_count": null,
            "flex_flow": null,
            "width": null,
            "min_width": null,
            "border": null,
            "align_items": null,
            "bottom": null,
            "_model_module": "@jupyter-widgets/base",
            "top": null,
            "grid_column": null,
            "overflow_y": null,
            "overflow_x": null,
            "grid_auto_flow": null,
            "grid_area": null,
            "grid_template_columns": null,
            "flex": null,
            "_model_name": "LayoutModel",
            "justify_items": null,
            "grid_row": null,
            "max_height": null,
            "align_content": null,
            "visibility": null,
            "align_self": null,
            "height": null,
            "min_height": null,
            "padding": null,
            "grid_auto_rows": null,
            "grid_gap": null,
            "max_width": null,
            "order": null,
            "_view_module_version": "1.2.0",
            "grid_template_areas": null,
            "object_position": null,
            "object_fit": null,
            "grid_auto_columns": null,
            "margin": null,
            "display": null,
            "left": null
          }
        },
        "f76829577721476cb587d7bab350760f": {
          "model_module": "@jupyter-widgets/controls",
          "model_name": "HBoxModel",
          "state": {
            "_view_name": "HBoxView",
            "_dom_classes": [],
            "_model_name": "HBoxModel",
            "_view_module": "@jupyter-widgets/controls",
            "_model_module_version": "1.5.0",
            "_view_count": null,
            "_view_module_version": "1.5.0",
            "box_style": "",
            "layout": "IPY_MODEL_0a4ea5a33fe34f54a986ba3fb3cc8340",
            "_model_module": "@jupyter-widgets/controls",
            "children": [
              "IPY_MODEL_a7fc72eba2bb45678e43bd01c0405e9f",
              "IPY_MODEL_ce5f99736b2e475c8283f88738a9a867"
            ]
          }
        },
        "0a4ea5a33fe34f54a986ba3fb3cc8340": {
          "model_module": "@jupyter-widgets/base",
          "model_name": "LayoutModel",
          "state": {
            "_view_name": "LayoutView",
            "grid_template_rows": null,
            "right": null,
            "justify_content": null,
            "_view_module": "@jupyter-widgets/base",
            "overflow": null,
            "_model_module_version": "1.2.0",
            "_view_count": null,
            "flex_flow": null,
            "width": null,
            "min_width": null,
            "border": null,
            "align_items": null,
            "bottom": null,
            "_model_module": "@jupyter-widgets/base",
            "top": null,
            "grid_column": null,
            "overflow_y": null,
            "overflow_x": null,
            "grid_auto_flow": null,
            "grid_area": null,
            "grid_template_columns": null,
            "flex": null,
            "_model_name": "LayoutModel",
            "justify_items": null,
            "grid_row": null,
            "max_height": null,
            "align_content": null,
            "visibility": null,
            "align_self": null,
            "height": null,
            "min_height": null,
            "padding": null,
            "grid_auto_rows": null,
            "grid_gap": null,
            "max_width": null,
            "order": null,
            "_view_module_version": "1.2.0",
            "grid_template_areas": null,
            "object_position": null,
            "object_fit": null,
            "grid_auto_columns": null,
            "margin": null,
            "display": null,
            "left": null
          }
        },
        "a7fc72eba2bb45678e43bd01c0405e9f": {
          "model_module": "@jupyter-widgets/controls",
          "model_name": "FloatProgressModel",
          "state": {
            "_view_name": "ProgressView",
            "style": "IPY_MODEL_0eea07a6079d49c68e713a932c649b3d",
            "_dom_classes": [],
            "description": "Downloading: 100%",
            "_model_name": "FloatProgressModel",
            "bar_style": "success",
            "max": 352833716,
            "_view_module": "@jupyter-widgets/controls",
            "_model_module_version": "1.5.0",
            "value": 352833716,
            "_view_count": null,
            "_view_module_version": "1.5.0",
            "orientation": "horizontal",
            "min": 0,
            "description_tooltip": null,
            "_model_module": "@jupyter-widgets/controls",
            "layout": "IPY_MODEL_708ced8fcf894bb197a72edb48831b07"
          }
        },
        "ce5f99736b2e475c8283f88738a9a867": {
          "model_module": "@jupyter-widgets/controls",
          "model_name": "HTMLModel",
          "state": {
            "_view_name": "HTMLView",
            "style": "IPY_MODEL_2a11518efd7043d3bb30af857d6753c1",
            "_dom_classes": [],
            "description": "",
            "_model_name": "HTMLModel",
            "placeholder": "​",
            "_view_module": "@jupyter-widgets/controls",
            "_model_module_version": "1.5.0",
            "value": " 353M/353M [00:10&lt;00:00, 35.0MB/s]",
            "_view_count": null,
            "_view_module_version": "1.5.0",
            "description_tooltip": null,
            "_model_module": "@jupyter-widgets/controls",
            "layout": "IPY_MODEL_e79f4df72a3b444a8de8be2b05db533b"
          }
        },
        "0eea07a6079d49c68e713a932c649b3d": {
          "model_module": "@jupyter-widgets/controls",
          "model_name": "ProgressStyleModel",
          "state": {
            "_view_name": "StyleView",
            "_model_name": "ProgressStyleModel",
            "description_width": "initial",
            "_view_module": "@jupyter-widgets/base",
            "_model_module_version": "1.5.0",
            "_view_count": null,
            "_view_module_version": "1.2.0",
            "bar_color": null,
            "_model_module": "@jupyter-widgets/controls"
          }
        },
        "708ced8fcf894bb197a72edb48831b07": {
          "model_module": "@jupyter-widgets/base",
          "model_name": "LayoutModel",
          "state": {
            "_view_name": "LayoutView",
            "grid_template_rows": null,
            "right": null,
            "justify_content": null,
            "_view_module": "@jupyter-widgets/base",
            "overflow": null,
            "_model_module_version": "1.2.0",
            "_view_count": null,
            "flex_flow": null,
            "width": null,
            "min_width": null,
            "border": null,
            "align_items": null,
            "bottom": null,
            "_model_module": "@jupyter-widgets/base",
            "top": null,
            "grid_column": null,
            "overflow_y": null,
            "overflow_x": null,
            "grid_auto_flow": null,
            "grid_area": null,
            "grid_template_columns": null,
            "flex": null,
            "_model_name": "LayoutModel",
            "justify_items": null,
            "grid_row": null,
            "max_height": null,
            "align_content": null,
            "visibility": null,
            "align_self": null,
            "height": null,
            "min_height": null,
            "padding": null,
            "grid_auto_rows": null,
            "grid_gap": null,
            "max_width": null,
            "order": null,
            "_view_module_version": "1.2.0",
            "grid_template_areas": null,
            "object_position": null,
            "object_fit": null,
            "grid_auto_columns": null,
            "margin": null,
            "display": null,
            "left": null
          }
        },
        "2a11518efd7043d3bb30af857d6753c1": {
          "model_module": "@jupyter-widgets/controls",
          "model_name": "DescriptionStyleModel",
          "state": {
            "_view_name": "StyleView",
            "_model_name": "DescriptionStyleModel",
            "description_width": "",
            "_view_module": "@jupyter-widgets/base",
            "_model_module_version": "1.5.0",
            "_view_count": null,
            "_view_module_version": "1.2.0",
            "_model_module": "@jupyter-widgets/controls"
          }
        },
        "e79f4df72a3b444a8de8be2b05db533b": {
          "model_module": "@jupyter-widgets/base",
          "model_name": "LayoutModel",
          "state": {
            "_view_name": "LayoutView",
            "grid_template_rows": null,
            "right": null,
            "justify_content": null,
            "_view_module": "@jupyter-widgets/base",
            "overflow": null,
            "_model_module_version": "1.2.0",
            "_view_count": null,
            "flex_flow": null,
            "width": null,
            "min_width": null,
            "border": null,
            "align_items": null,
            "bottom": null,
            "_model_module": "@jupyter-widgets/base",
            "top": null,
            "grid_column": null,
            "overflow_y": null,
            "overflow_x": null,
            "grid_auto_flow": null,
            "grid_area": null,
            "grid_template_columns": null,
            "flex": null,
            "_model_name": "LayoutModel",
            "justify_items": null,
            "grid_row": null,
            "max_height": null,
            "align_content": null,
            "visibility": null,
            "align_self": null,
            "height": null,
            "min_height": null,
            "padding": null,
            "grid_auto_rows": null,
            "grid_gap": null,
            "max_width": null,
            "order": null,
            "_view_module_version": "1.2.0",
            "grid_template_areas": null,
            "object_position": null,
            "object_fit": null,
            "grid_auto_columns": null,
            "margin": null,
            "display": null,
            "left": null
          }
        },
        "421aa24fb82344768734142d6617a139": {
          "model_module": "@jupyter-widgets/controls",
          "model_name": "HBoxModel",
          "state": {
            "_view_name": "HBoxView",
            "_dom_classes": [],
            "_model_name": "HBoxModel",
            "_view_module": "@jupyter-widgets/controls",
            "_model_module_version": "1.5.0",
            "_view_count": null,
            "_view_module_version": "1.5.0",
            "box_style": "",
            "layout": "IPY_MODEL_c2a08002541b47a0bf04a60aaf753efd",
            "_model_module": "@jupyter-widgets/controls",
            "children": [
              "IPY_MODEL_d70679ea07e34f15941885077217dba8",
              "IPY_MODEL_d0a6c1a6945641af8f5fa70e8c5a2e7c"
            ]
          }
        },
        "c2a08002541b47a0bf04a60aaf753efd": {
          "model_module": "@jupyter-widgets/base",
          "model_name": "LayoutModel",
          "state": {
            "_view_name": "LayoutView",
            "grid_template_rows": null,
            "right": null,
            "justify_content": null,
            "_view_module": "@jupyter-widgets/base",
            "overflow": null,
            "_model_module_version": "1.2.0",
            "_view_count": null,
            "flex_flow": null,
            "width": null,
            "min_width": null,
            "border": null,
            "align_items": null,
            "bottom": null,
            "_model_module": "@jupyter-widgets/base",
            "top": null,
            "grid_column": null,
            "overflow_y": null,
            "overflow_x": null,
            "grid_auto_flow": null,
            "grid_area": null,
            "grid_template_columns": null,
            "flex": null,
            "_model_name": "LayoutModel",
            "justify_items": null,
            "grid_row": null,
            "max_height": null,
            "align_content": null,
            "visibility": null,
            "align_self": null,
            "height": null,
            "min_height": null,
            "padding": null,
            "grid_auto_rows": null,
            "grid_gap": null,
            "max_width": null,
            "order": null,
            "_view_module_version": "1.2.0",
            "grid_template_areas": null,
            "object_position": null,
            "object_fit": null,
            "grid_auto_columns": null,
            "margin": null,
            "display": null,
            "left": null
          }
        },
        "d70679ea07e34f15941885077217dba8": {
          "model_module": "@jupyter-widgets/controls",
          "model_name": "FloatProgressModel",
          "state": {
            "_view_name": "ProgressView",
            "style": "IPY_MODEL_2fa9df322cdc4c60a2226d84efa92591",
            "_dom_classes": [],
            "description": "Downloading: 100%",
            "_model_name": "FloatProgressModel",
            "bar_style": "success",
            "max": 1042301,
            "_view_module": "@jupyter-widgets/controls",
            "_model_module_version": "1.5.0",
            "value": 1042301,
            "_view_count": null,
            "_view_module_version": "1.5.0",
            "orientation": "horizontal",
            "min": 0,
            "description_tooltip": null,
            "_model_module": "@jupyter-widgets/controls",
            "layout": "IPY_MODEL_bbaa60f66081403888cf100d9bc7ae81"
          }
        },
        "d0a6c1a6945641af8f5fa70e8c5a2e7c": {
          "model_module": "@jupyter-widgets/controls",
          "model_name": "HTMLModel",
          "state": {
            "_view_name": "HTMLView",
            "style": "IPY_MODEL_cc65b1ebbe754d829a972c58931e1643",
            "_dom_classes": [],
            "description": "",
            "_model_name": "HTMLModel",
            "placeholder": "​",
            "_view_module": "@jupyter-widgets/controls",
            "_model_module_version": "1.5.0",
            "value": " 1.04M/1.04M [00:00&lt;00:00, 1.86MB/s]",
            "_view_count": null,
            "_view_module_version": "1.5.0",
            "description_tooltip": null,
            "_model_module": "@jupyter-widgets/controls",
            "layout": "IPY_MODEL_e21daf80daa64d7a9bfa38d8d6ab0304"
          }
        },
        "2fa9df322cdc4c60a2226d84efa92591": {
          "model_module": "@jupyter-widgets/controls",
          "model_name": "ProgressStyleModel",
          "state": {
            "_view_name": "StyleView",
            "_model_name": "ProgressStyleModel",
            "description_width": "initial",
            "_view_module": "@jupyter-widgets/base",
            "_model_module_version": "1.5.0",
            "_view_count": null,
            "_view_module_version": "1.2.0",
            "bar_color": null,
            "_model_module": "@jupyter-widgets/controls"
          }
        },
        "bbaa60f66081403888cf100d9bc7ae81": {
          "model_module": "@jupyter-widgets/base",
          "model_name": "LayoutModel",
          "state": {
            "_view_name": "LayoutView",
            "grid_template_rows": null,
            "right": null,
            "justify_content": null,
            "_view_module": "@jupyter-widgets/base",
            "overflow": null,
            "_model_module_version": "1.2.0",
            "_view_count": null,
            "flex_flow": null,
            "width": null,
            "min_width": null,
            "border": null,
            "align_items": null,
            "bottom": null,
            "_model_module": "@jupyter-widgets/base",
            "top": null,
            "grid_column": null,
            "overflow_y": null,
            "overflow_x": null,
            "grid_auto_flow": null,
            "grid_area": null,
            "grid_template_columns": null,
            "flex": null,
            "_model_name": "LayoutModel",
            "justify_items": null,
            "grid_row": null,
            "max_height": null,
            "align_content": null,
            "visibility": null,
            "align_self": null,
            "height": null,
            "min_height": null,
            "padding": null,
            "grid_auto_rows": null,
            "grid_gap": null,
            "max_width": null,
            "order": null,
            "_view_module_version": "1.2.0",
            "grid_template_areas": null,
            "object_position": null,
            "object_fit": null,
            "grid_auto_columns": null,
            "margin": null,
            "display": null,
            "left": null
          }
        },
        "cc65b1ebbe754d829a972c58931e1643": {
          "model_module": "@jupyter-widgets/controls",
          "model_name": "DescriptionStyleModel",
          "state": {
            "_view_name": "StyleView",
            "_model_name": "DescriptionStyleModel",
            "description_width": "",
            "_view_module": "@jupyter-widgets/base",
            "_model_module_version": "1.5.0",
            "_view_count": null,
            "_view_module_version": "1.2.0",
            "_model_module": "@jupyter-widgets/controls"
          }
        },
        "e21daf80daa64d7a9bfa38d8d6ab0304": {
          "model_module": "@jupyter-widgets/base",
          "model_name": "LayoutModel",
          "state": {
            "_view_name": "LayoutView",
            "grid_template_rows": null,
            "right": null,
            "justify_content": null,
            "_view_module": "@jupyter-widgets/base",
            "overflow": null,
            "_model_module_version": "1.2.0",
            "_view_count": null,
            "flex_flow": null,
            "width": null,
            "min_width": null,
            "border": null,
            "align_items": null,
            "bottom": null,
            "_model_module": "@jupyter-widgets/base",
            "top": null,
            "grid_column": null,
            "overflow_y": null,
            "overflow_x": null,
            "grid_auto_flow": null,
            "grid_area": null,
            "grid_template_columns": null,
            "flex": null,
            "_model_name": "LayoutModel",
            "justify_items": null,
            "grid_row": null,
            "max_height": null,
            "align_content": null,
            "visibility": null,
            "align_self": null,
            "height": null,
            "min_height": null,
            "padding": null,
            "grid_auto_rows": null,
            "grid_gap": null,
            "max_width": null,
            "order": null,
            "_view_module_version": "1.2.0",
            "grid_template_areas": null,
            "object_position": null,
            "object_fit": null,
            "grid_auto_columns": null,
            "margin": null,
            "display": null,
            "left": null
          }
        },
        "5eb3bfd5b26e4558b71e8f288876010f": {
          "model_module": "@jupyter-widgets/controls",
          "model_name": "HBoxModel",
          "state": {
            "_view_name": "HBoxView",
            "_dom_classes": [],
            "_model_name": "HBoxModel",
            "_view_module": "@jupyter-widgets/controls",
            "_model_module_version": "1.5.0",
            "_view_count": null,
            "_view_module_version": "1.5.0",
            "box_style": "",
            "layout": "IPY_MODEL_e8919e8063b445f4b6224a3f2097899a",
            "_model_module": "@jupyter-widgets/controls",
            "children": [
              "IPY_MODEL_cc9a4bbaa74c4fb2addaf3fe6065aece",
              "IPY_MODEL_2674e4c9247040b69de43ad66e6d1f14"
            ]
          }
        },
        "e8919e8063b445f4b6224a3f2097899a": {
          "model_module": "@jupyter-widgets/base",
          "model_name": "LayoutModel",
          "state": {
            "_view_name": "LayoutView",
            "grid_template_rows": null,
            "right": null,
            "justify_content": null,
            "_view_module": "@jupyter-widgets/base",
            "overflow": null,
            "_model_module_version": "1.2.0",
            "_view_count": null,
            "flex_flow": null,
            "width": null,
            "min_width": null,
            "border": null,
            "align_items": null,
            "bottom": null,
            "_model_module": "@jupyter-widgets/base",
            "top": null,
            "grid_column": null,
            "overflow_y": null,
            "overflow_x": null,
            "grid_auto_flow": null,
            "grid_area": null,
            "grid_template_columns": null,
            "flex": null,
            "_model_name": "LayoutModel",
            "justify_items": null,
            "grid_row": null,
            "max_height": null,
            "align_content": null,
            "visibility": null,
            "align_self": null,
            "height": null,
            "min_height": null,
            "padding": null,
            "grid_auto_rows": null,
            "grid_gap": null,
            "max_width": null,
            "order": null,
            "_view_module_version": "1.2.0",
            "grid_template_areas": null,
            "object_position": null,
            "object_fit": null,
            "grid_auto_columns": null,
            "margin": null,
            "display": null,
            "left": null
          }
        },
        "cc9a4bbaa74c4fb2addaf3fe6065aece": {
          "model_module": "@jupyter-widgets/controls",
          "model_name": "FloatProgressModel",
          "state": {
            "_view_name": "ProgressView",
            "style": "IPY_MODEL_adf0858f6c3049e89058049f37bee7dd",
            "_dom_classes": [],
            "description": "Downloading: 100%",
            "_model_name": "FloatProgressModel",
            "bar_style": "success",
            "max": 456318,
            "_view_module": "@jupyter-widgets/controls",
            "_model_module_version": "1.5.0",
            "value": 456318,
            "_view_count": null,
            "_view_module_version": "1.5.0",
            "orientation": "horizontal",
            "min": 0,
            "description_tooltip": null,
            "_model_module": "@jupyter-widgets/controls",
            "layout": "IPY_MODEL_093139512e874a0c9e7603aac9653f07"
          }
        },
        "2674e4c9247040b69de43ad66e6d1f14": {
          "model_module": "@jupyter-widgets/controls",
          "model_name": "HTMLModel",
          "state": {
            "_view_name": "HTMLView",
            "style": "IPY_MODEL_e0b7c0db3eda414a914970095caefdcb",
            "_dom_classes": [],
            "description": "",
            "_model_name": "HTMLModel",
            "placeholder": "​",
            "_view_module": "@jupyter-widgets/controls",
            "_model_module_version": "1.5.0",
            "value": " 456k/456k [00:00&lt;00:00, 1.65MB/s]",
            "_view_count": null,
            "_view_module_version": "1.5.0",
            "description_tooltip": null,
            "_model_module": "@jupyter-widgets/controls",
            "layout": "IPY_MODEL_99ae1fe4f7254e2391ceed4950194f0f"
          }
        },
        "adf0858f6c3049e89058049f37bee7dd": {
          "model_module": "@jupyter-widgets/controls",
          "model_name": "ProgressStyleModel",
          "state": {
            "_view_name": "StyleView",
            "_model_name": "ProgressStyleModel",
            "description_width": "initial",
            "_view_module": "@jupyter-widgets/base",
            "_model_module_version": "1.5.0",
            "_view_count": null,
            "_view_module_version": "1.2.0",
            "bar_color": null,
            "_model_module": "@jupyter-widgets/controls"
          }
        },
        "093139512e874a0c9e7603aac9653f07": {
          "model_module": "@jupyter-widgets/base",
          "model_name": "LayoutModel",
          "state": {
            "_view_name": "LayoutView",
            "grid_template_rows": null,
            "right": null,
            "justify_content": null,
            "_view_module": "@jupyter-widgets/base",
            "overflow": null,
            "_model_module_version": "1.2.0",
            "_view_count": null,
            "flex_flow": null,
            "width": null,
            "min_width": null,
            "border": null,
            "align_items": null,
            "bottom": null,
            "_model_module": "@jupyter-widgets/base",
            "top": null,
            "grid_column": null,
            "overflow_y": null,
            "overflow_x": null,
            "grid_auto_flow": null,
            "grid_area": null,
            "grid_template_columns": null,
            "flex": null,
            "_model_name": "LayoutModel",
            "justify_items": null,
            "grid_row": null,
            "max_height": null,
            "align_content": null,
            "visibility": null,
            "align_self": null,
            "height": null,
            "min_height": null,
            "padding": null,
            "grid_auto_rows": null,
            "grid_gap": null,
            "max_width": null,
            "order": null,
            "_view_module_version": "1.2.0",
            "grid_template_areas": null,
            "object_position": null,
            "object_fit": null,
            "grid_auto_columns": null,
            "margin": null,
            "display": null,
            "left": null
          }
        },
        "e0b7c0db3eda414a914970095caefdcb": {
          "model_module": "@jupyter-widgets/controls",
          "model_name": "DescriptionStyleModel",
          "state": {
            "_view_name": "StyleView",
            "_model_name": "DescriptionStyleModel",
            "description_width": "",
            "_view_module": "@jupyter-widgets/base",
            "_model_module_version": "1.5.0",
            "_view_count": null,
            "_view_module_version": "1.2.0",
            "_model_module": "@jupyter-widgets/controls"
          }
        },
        "99ae1fe4f7254e2391ceed4950194f0f": {
          "model_module": "@jupyter-widgets/base",
          "model_name": "LayoutModel",
          "state": {
            "_view_name": "LayoutView",
            "grid_template_rows": null,
            "right": null,
            "justify_content": null,
            "_view_module": "@jupyter-widgets/base",
            "overflow": null,
            "_model_module_version": "1.2.0",
            "_view_count": null,
            "flex_flow": null,
            "width": null,
            "min_width": null,
            "border": null,
            "align_items": null,
            "bottom": null,
            "_model_module": "@jupyter-widgets/base",
            "top": null,
            "grid_column": null,
            "overflow_y": null,
            "overflow_x": null,
            "grid_auto_flow": null,
            "grid_area": null,
            "grid_template_columns": null,
            "flex": null,
            "_model_name": "LayoutModel",
            "justify_items": null,
            "grid_row": null,
            "max_height": null,
            "align_content": null,
            "visibility": null,
            "align_self": null,
            "height": null,
            "min_height": null,
            "padding": null,
            "grid_auto_rows": null,
            "grid_gap": null,
            "max_width": null,
            "order": null,
            "_view_module_version": "1.2.0",
            "grid_template_areas": null,
            "object_position": null,
            "object_fit": null,
            "grid_auto_columns": null,
            "margin": null,
            "display": null,
            "left": null
          }
        },
        "195b38b8e5374478aed3aa1a032b8250": {
          "model_module": "@jupyter-widgets/controls",
          "model_name": "HBoxModel",
          "state": {
            "_view_name": "HBoxView",
            "_dom_classes": [],
            "_model_name": "HBoxModel",
            "_view_module": "@jupyter-widgets/controls",
            "_model_module_version": "1.5.0",
            "_view_count": null,
            "_view_module_version": "1.5.0",
            "box_style": "",
            "layout": "IPY_MODEL_4d1581ea30654daea6fdcde4211a38c3",
            "_model_module": "@jupyter-widgets/controls",
            "children": [
              "IPY_MODEL_6a2d3bc214474e1ebecf6204eecd72ca",
              "IPY_MODEL_c26a9d55dd024094a5d452ffd3f02efd"
            ]
          }
        },
        "4d1581ea30654daea6fdcde4211a38c3": {
          "model_module": "@jupyter-widgets/base",
          "model_name": "LayoutModel",
          "state": {
            "_view_name": "LayoutView",
            "grid_template_rows": null,
            "right": null,
            "justify_content": null,
            "_view_module": "@jupyter-widgets/base",
            "overflow": null,
            "_model_module_version": "1.2.0",
            "_view_count": null,
            "flex_flow": null,
            "width": null,
            "min_width": null,
            "border": null,
            "align_items": null,
            "bottom": null,
            "_model_module": "@jupyter-widgets/base",
            "top": null,
            "grid_column": null,
            "overflow_y": null,
            "overflow_x": null,
            "grid_auto_flow": null,
            "grid_area": null,
            "grid_template_columns": null,
            "flex": null,
            "_model_name": "LayoutModel",
            "justify_items": null,
            "grid_row": null,
            "max_height": null,
            "align_content": null,
            "visibility": null,
            "align_self": null,
            "height": null,
            "min_height": null,
            "padding": null,
            "grid_auto_rows": null,
            "grid_gap": null,
            "max_width": null,
            "order": null,
            "_view_module_version": "1.2.0",
            "grid_template_areas": null,
            "object_position": null,
            "object_fit": null,
            "grid_auto_columns": null,
            "margin": null,
            "display": null,
            "left": null
          }
        },
        "6a2d3bc214474e1ebecf6204eecd72ca": {
          "model_module": "@jupyter-widgets/controls",
          "model_name": "FloatProgressModel",
          "state": {
            "_view_name": "ProgressView",
            "style": "IPY_MODEL_0b8c192507824aefbf4ddcf4c08a3604",
            "_dom_classes": [],
            "description": "Downloading: 100%",
            "_model_name": "FloatProgressModel",
            "bar_style": "success",
            "max": 1355256,
            "_view_module": "@jupyter-widgets/controls",
            "_model_module_version": "1.5.0",
            "value": 1355256,
            "_view_count": null,
            "_view_module_version": "1.5.0",
            "orientation": "horizontal",
            "min": 0,
            "description_tooltip": null,
            "_model_module": "@jupyter-widgets/controls",
            "layout": "IPY_MODEL_3f5cf13c7d1f43a5811194d169fe1dca"
          }
        },
        "c26a9d55dd024094a5d452ffd3f02efd": {
          "model_module": "@jupyter-widgets/controls",
          "model_name": "HTMLModel",
          "state": {
            "_view_name": "HTMLView",
            "style": "IPY_MODEL_2589c4c227334f3a9c4b3d3777992e39",
            "_dom_classes": [],
            "description": "",
            "_model_name": "HTMLModel",
            "placeholder": "​",
            "_view_module": "@jupyter-widgets/controls",
            "_model_module_version": "1.5.0",
            "value": " 1.36M/1.36M [09:23&lt;00:00, 2.40kB/s]",
            "_view_count": null,
            "_view_module_version": "1.5.0",
            "description_tooltip": null,
            "_model_module": "@jupyter-widgets/controls",
            "layout": "IPY_MODEL_091107904fc24a8aad364e660bcf8e49"
          }
        },
        "0b8c192507824aefbf4ddcf4c08a3604": {
          "model_module": "@jupyter-widgets/controls",
          "model_name": "ProgressStyleModel",
          "state": {
            "_view_name": "StyleView",
            "_model_name": "ProgressStyleModel",
            "description_width": "initial",
            "_view_module": "@jupyter-widgets/base",
            "_model_module_version": "1.5.0",
            "_view_count": null,
            "_view_module_version": "1.2.0",
            "bar_color": null,
            "_model_module": "@jupyter-widgets/controls"
          }
        },
        "3f5cf13c7d1f43a5811194d169fe1dca": {
          "model_module": "@jupyter-widgets/base",
          "model_name": "LayoutModel",
          "state": {
            "_view_name": "LayoutView",
            "grid_template_rows": null,
            "right": null,
            "justify_content": null,
            "_view_module": "@jupyter-widgets/base",
            "overflow": null,
            "_model_module_version": "1.2.0",
            "_view_count": null,
            "flex_flow": null,
            "width": null,
            "min_width": null,
            "border": null,
            "align_items": null,
            "bottom": null,
            "_model_module": "@jupyter-widgets/base",
            "top": null,
            "grid_column": null,
            "overflow_y": null,
            "overflow_x": null,
            "grid_auto_flow": null,
            "grid_area": null,
            "grid_template_columns": null,
            "flex": null,
            "_model_name": "LayoutModel",
            "justify_items": null,
            "grid_row": null,
            "max_height": null,
            "align_content": null,
            "visibility": null,
            "align_self": null,
            "height": null,
            "min_height": null,
            "padding": null,
            "grid_auto_rows": null,
            "grid_gap": null,
            "max_width": null,
            "order": null,
            "_view_module_version": "1.2.0",
            "grid_template_areas": null,
            "object_position": null,
            "object_fit": null,
            "grid_auto_columns": null,
            "margin": null,
            "display": null,
            "left": null
          }
        },
        "2589c4c227334f3a9c4b3d3777992e39": {
          "model_module": "@jupyter-widgets/controls",
          "model_name": "DescriptionStyleModel",
          "state": {
            "_view_name": "StyleView",
            "_model_name": "DescriptionStyleModel",
            "description_width": "",
            "_view_module": "@jupyter-widgets/base",
            "_model_module_version": "1.5.0",
            "_view_count": null,
            "_view_module_version": "1.2.0",
            "_model_module": "@jupyter-widgets/controls"
          }
        },
        "091107904fc24a8aad364e660bcf8e49": {
          "model_module": "@jupyter-widgets/base",
          "model_name": "LayoutModel",
          "state": {
            "_view_name": "LayoutView",
            "grid_template_rows": null,
            "right": null,
            "justify_content": null,
            "_view_module": "@jupyter-widgets/base",
            "overflow": null,
            "_model_module_version": "1.2.0",
            "_view_count": null,
            "flex_flow": null,
            "width": null,
            "min_width": null,
            "border": null,
            "align_items": null,
            "bottom": null,
            "_model_module": "@jupyter-widgets/base",
            "top": null,
            "grid_column": null,
            "overflow_y": null,
            "overflow_x": null,
            "grid_auto_flow": null,
            "grid_area": null,
            "grid_template_columns": null,
            "flex": null,
            "_model_name": "LayoutModel",
            "justify_items": null,
            "grid_row": null,
            "max_height": null,
            "align_content": null,
            "visibility": null,
            "align_self": null,
            "height": null,
            "min_height": null,
            "padding": null,
            "grid_auto_rows": null,
            "grid_gap": null,
            "max_width": null,
            "order": null,
            "_view_module_version": "1.2.0",
            "grid_template_areas": null,
            "object_position": null,
            "object_fit": null,
            "grid_auto_columns": null,
            "margin": null,
            "display": null,
            "left": null
          }
        },
        "29024433535a48bd96e8a6e4d53e9d20": {
          "model_module": "@jupyter-widgets/controls",
          "model_name": "HBoxModel",
          "state": {
            "_view_name": "HBoxView",
            "_dom_classes": [],
            "_model_name": "HBoxModel",
            "_view_module": "@jupyter-widgets/controls",
            "_model_module_version": "1.5.0",
            "_view_count": null,
            "_view_module_version": "1.5.0",
            "box_style": "",
            "layout": "IPY_MODEL_8a4b1d5429c741d396e5fcd33d733080",
            "_model_module": "@jupyter-widgets/controls",
            "children": [
              "IPY_MODEL_bfe3113aca384285bbb094aadfac9b43",
              "IPY_MODEL_edecef6347ee455bb1e79efde82314fb"
            ]
          }
        },
        "8a4b1d5429c741d396e5fcd33d733080": {
          "model_module": "@jupyter-widgets/base",
          "model_name": "LayoutModel",
          "state": {
            "_view_name": "LayoutView",
            "grid_template_rows": null,
            "right": null,
            "justify_content": null,
            "_view_module": "@jupyter-widgets/base",
            "overflow": null,
            "_model_module_version": "1.2.0",
            "_view_count": null,
            "flex_flow": null,
            "width": null,
            "min_width": null,
            "border": null,
            "align_items": null,
            "bottom": null,
            "_model_module": "@jupyter-widgets/base",
            "top": null,
            "grid_column": null,
            "overflow_y": null,
            "overflow_x": null,
            "grid_auto_flow": null,
            "grid_area": null,
            "grid_template_columns": null,
            "flex": null,
            "_model_name": "LayoutModel",
            "justify_items": null,
            "grid_row": null,
            "max_height": null,
            "align_content": null,
            "visibility": null,
            "align_self": null,
            "height": null,
            "min_height": null,
            "padding": null,
            "grid_auto_rows": null,
            "grid_gap": null,
            "max_width": null,
            "order": null,
            "_view_module_version": "1.2.0",
            "grid_template_areas": null,
            "object_position": null,
            "object_fit": null,
            "grid_auto_columns": null,
            "margin": null,
            "display": null,
            "left": null
          }
        },
        "bfe3113aca384285bbb094aadfac9b43": {
          "model_module": "@jupyter-widgets/controls",
          "model_name": "FloatProgressModel",
          "state": {
            "_view_name": "ProgressView",
            "style": "IPY_MODEL_77f76583120e428ba2b4c9197756d91e",
            "_dom_classes": [],
            "description": "Downloading: 100%",
            "_model_name": "FloatProgressModel",
            "bar_style": "success",
            "max": 473,
            "_view_module": "@jupyter-widgets/controls",
            "_model_module_version": "1.5.0",
            "value": 473,
            "_view_count": null,
            "_view_module_version": "1.5.0",
            "orientation": "horizontal",
            "min": 0,
            "description_tooltip": null,
            "_model_module": "@jupyter-widgets/controls",
            "layout": "IPY_MODEL_749bcf0d77624f688c67a89c4d610230"
          }
        },
        "edecef6347ee455bb1e79efde82314fb": {
          "model_module": "@jupyter-widgets/controls",
          "model_name": "HTMLModel",
          "state": {
            "_view_name": "HTMLView",
            "style": "IPY_MODEL_b0018b56eeb94ba39ab18077eab577de",
            "_dom_classes": [],
            "description": "",
            "_model_name": "HTMLModel",
            "placeholder": "​",
            "_view_module": "@jupyter-widgets/controls",
            "_model_module_version": "1.5.0",
            "value": " 473/473 [00:08&lt;00:00, 54.9B/s]",
            "_view_count": null,
            "_view_module_version": "1.5.0",
            "description_tooltip": null,
            "_model_module": "@jupyter-widgets/controls",
            "layout": "IPY_MODEL_a70c65d061864b9b83e2a2ea1adc35ae"
          }
        },
        "77f76583120e428ba2b4c9197756d91e": {
          "model_module": "@jupyter-widgets/controls",
          "model_name": "ProgressStyleModel",
          "state": {
            "_view_name": "StyleView",
            "_model_name": "ProgressStyleModel",
            "description_width": "initial",
            "_view_module": "@jupyter-widgets/base",
            "_model_module_version": "1.5.0",
            "_view_count": null,
            "_view_module_version": "1.2.0",
            "bar_color": null,
            "_model_module": "@jupyter-widgets/controls"
          }
        },
        "749bcf0d77624f688c67a89c4d610230": {
          "model_module": "@jupyter-widgets/base",
          "model_name": "LayoutModel",
          "state": {
            "_view_name": "LayoutView",
            "grid_template_rows": null,
            "right": null,
            "justify_content": null,
            "_view_module": "@jupyter-widgets/base",
            "overflow": null,
            "_model_module_version": "1.2.0",
            "_view_count": null,
            "flex_flow": null,
            "width": null,
            "min_width": null,
            "border": null,
            "align_items": null,
            "bottom": null,
            "_model_module": "@jupyter-widgets/base",
            "top": null,
            "grid_column": null,
            "overflow_y": null,
            "overflow_x": null,
            "grid_auto_flow": null,
            "grid_area": null,
            "grid_template_columns": null,
            "flex": null,
            "_model_name": "LayoutModel",
            "justify_items": null,
            "grid_row": null,
            "max_height": null,
            "align_content": null,
            "visibility": null,
            "align_self": null,
            "height": null,
            "min_height": null,
            "padding": null,
            "grid_auto_rows": null,
            "grid_gap": null,
            "max_width": null,
            "order": null,
            "_view_module_version": "1.2.0",
            "grid_template_areas": null,
            "object_position": null,
            "object_fit": null,
            "grid_auto_columns": null,
            "margin": null,
            "display": null,
            "left": null
          }
        },
        "b0018b56eeb94ba39ab18077eab577de": {
          "model_module": "@jupyter-widgets/controls",
          "model_name": "DescriptionStyleModel",
          "state": {
            "_view_name": "StyleView",
            "_model_name": "DescriptionStyleModel",
            "description_width": "",
            "_view_module": "@jupyter-widgets/base",
            "_model_module_version": "1.5.0",
            "_view_count": null,
            "_view_module_version": "1.2.0",
            "_model_module": "@jupyter-widgets/controls"
          }
        },
        "a70c65d061864b9b83e2a2ea1adc35ae": {
          "model_module": "@jupyter-widgets/base",
          "model_name": "LayoutModel",
          "state": {
            "_view_name": "LayoutView",
            "grid_template_rows": null,
            "right": null,
            "justify_content": null,
            "_view_module": "@jupyter-widgets/base",
            "overflow": null,
            "_model_module_version": "1.2.0",
            "_view_count": null,
            "flex_flow": null,
            "width": null,
            "min_width": null,
            "border": null,
            "align_items": null,
            "bottom": null,
            "_model_module": "@jupyter-widgets/base",
            "top": null,
            "grid_column": null,
            "overflow_y": null,
            "overflow_x": null,
            "grid_auto_flow": null,
            "grid_area": null,
            "grid_template_columns": null,
            "flex": null,
            "_model_name": "LayoutModel",
            "justify_items": null,
            "grid_row": null,
            "max_height": null,
            "align_content": null,
            "visibility": null,
            "align_self": null,
            "height": null,
            "min_height": null,
            "padding": null,
            "grid_auto_rows": null,
            "grid_gap": null,
            "max_width": null,
            "order": null,
            "_view_module_version": "1.2.0",
            "grid_template_areas": null,
            "object_position": null,
            "object_fit": null,
            "grid_auto_columns": null,
            "margin": null,
            "display": null,
            "left": null
          }
        },
        "0642d849c8504253a89d33da32b9066d": {
          "model_module": "@jupyter-widgets/controls",
          "model_name": "HBoxModel",
          "state": {
            "_view_name": "HBoxView",
            "_dom_classes": [],
            "_model_name": "HBoxModel",
            "_view_module": "@jupyter-widgets/controls",
            "_model_module_version": "1.5.0",
            "_view_count": null,
            "_view_module_version": "1.5.0",
            "box_style": "",
            "layout": "IPY_MODEL_893ac812adbc451d906233f9c3ec6840",
            "_model_module": "@jupyter-widgets/controls",
            "children": [
              "IPY_MODEL_0c704f1af6b34f56bcc249f1f5dde642",
              "IPY_MODEL_6d8eea6607fa4754b7d8fe4fa6c707fe"
            ]
          }
        },
        "893ac812adbc451d906233f9c3ec6840": {
          "model_module": "@jupyter-widgets/base",
          "model_name": "LayoutModel",
          "state": {
            "_view_name": "LayoutView",
            "grid_template_rows": null,
            "right": null,
            "justify_content": null,
            "_view_module": "@jupyter-widgets/base",
            "overflow": null,
            "_model_module_version": "1.2.0",
            "_view_count": null,
            "flex_flow": null,
            "width": null,
            "min_width": null,
            "border": null,
            "align_items": null,
            "bottom": null,
            "_model_module": "@jupyter-widgets/base",
            "top": null,
            "grid_column": null,
            "overflow_y": null,
            "overflow_x": null,
            "grid_auto_flow": null,
            "grid_area": null,
            "grid_template_columns": null,
            "flex": null,
            "_model_name": "LayoutModel",
            "justify_items": null,
            "grid_row": null,
            "max_height": null,
            "align_content": null,
            "visibility": null,
            "align_self": null,
            "height": null,
            "min_height": null,
            "padding": null,
            "grid_auto_rows": null,
            "grid_gap": null,
            "max_width": null,
            "order": null,
            "_view_module_version": "1.2.0",
            "grid_template_areas": null,
            "object_position": null,
            "object_fit": null,
            "grid_auto_columns": null,
            "margin": null,
            "display": null,
            "left": null
          }
        },
        "0c704f1af6b34f56bcc249f1f5dde642": {
          "model_module": "@jupyter-widgets/controls",
          "model_name": "FloatProgressModel",
          "state": {
            "_view_name": "ProgressView",
            "style": "IPY_MODEL_f53b0172c0aa4756a76efde7a56c387b",
            "_dom_classes": [],
            "description": "Downloading: 100%",
            "_model_name": "FloatProgressModel",
            "bar_style": "success",
            "max": 260793700,
            "_view_module": "@jupyter-widgets/controls",
            "_model_module_version": "1.5.0",
            "value": 260793700,
            "_view_count": null,
            "_view_module_version": "1.5.0",
            "orientation": "horizontal",
            "min": 0,
            "description_tooltip": null,
            "_model_module": "@jupyter-widgets/controls",
            "layout": "IPY_MODEL_967268813a2345949e19d57660f4b6d9"
          }
        },
        "6d8eea6607fa4754b7d8fe4fa6c707fe": {
          "model_module": "@jupyter-widgets/controls",
          "model_name": "HTMLModel",
          "state": {
            "_view_name": "HTMLView",
            "style": "IPY_MODEL_9f67272bde64467a9431e87c90f7c44f",
            "_dom_classes": [],
            "description": "",
            "_model_name": "HTMLModel",
            "placeholder": "​",
            "_view_module": "@jupyter-widgets/controls",
            "_model_module_version": "1.5.0",
            "value": " 261M/261M [00:07&lt;00:00, 33.1MB/s]",
            "_view_count": null,
            "_view_module_version": "1.5.0",
            "description_tooltip": null,
            "_model_module": "@jupyter-widgets/controls",
            "layout": "IPY_MODEL_f69b2dcb65ba4e76ab3a56f2245f8280"
          }
        },
        "f53b0172c0aa4756a76efde7a56c387b": {
          "model_module": "@jupyter-widgets/controls",
          "model_name": "ProgressStyleModel",
          "state": {
            "_view_name": "StyleView",
            "_model_name": "ProgressStyleModel",
            "description_width": "initial",
            "_view_module": "@jupyter-widgets/base",
            "_model_module_version": "1.5.0",
            "_view_count": null,
            "_view_module_version": "1.2.0",
            "bar_color": null,
            "_model_module": "@jupyter-widgets/controls"
          }
        },
        "967268813a2345949e19d57660f4b6d9": {
          "model_module": "@jupyter-widgets/base",
          "model_name": "LayoutModel",
          "state": {
            "_view_name": "LayoutView",
            "grid_template_rows": null,
            "right": null,
            "justify_content": null,
            "_view_module": "@jupyter-widgets/base",
            "overflow": null,
            "_model_module_version": "1.2.0",
            "_view_count": null,
            "flex_flow": null,
            "width": null,
            "min_width": null,
            "border": null,
            "align_items": null,
            "bottom": null,
            "_model_module": "@jupyter-widgets/base",
            "top": null,
            "grid_column": null,
            "overflow_y": null,
            "overflow_x": null,
            "grid_auto_flow": null,
            "grid_area": null,
            "grid_template_columns": null,
            "flex": null,
            "_model_name": "LayoutModel",
            "justify_items": null,
            "grid_row": null,
            "max_height": null,
            "align_content": null,
            "visibility": null,
            "align_self": null,
            "height": null,
            "min_height": null,
            "padding": null,
            "grid_auto_rows": null,
            "grid_gap": null,
            "max_width": null,
            "order": null,
            "_view_module_version": "1.2.0",
            "grid_template_areas": null,
            "object_position": null,
            "object_fit": null,
            "grid_auto_columns": null,
            "margin": null,
            "display": null,
            "left": null
          }
        },
        "9f67272bde64467a9431e87c90f7c44f": {
          "model_module": "@jupyter-widgets/controls",
          "model_name": "DescriptionStyleModel",
          "state": {
            "_view_name": "StyleView",
            "_model_name": "DescriptionStyleModel",
            "description_width": "",
            "_view_module": "@jupyter-widgets/base",
            "_model_module_version": "1.5.0",
            "_view_count": null,
            "_view_module_version": "1.2.0",
            "_model_module": "@jupyter-widgets/controls"
          }
        },
        "f69b2dcb65ba4e76ab3a56f2245f8280": {
          "model_module": "@jupyter-widgets/base",
          "model_name": "LayoutModel",
          "state": {
            "_view_name": "LayoutView",
            "grid_template_rows": null,
            "right": null,
            "justify_content": null,
            "_view_module": "@jupyter-widgets/base",
            "overflow": null,
            "_model_module_version": "1.2.0",
            "_view_count": null,
            "flex_flow": null,
            "width": null,
            "min_width": null,
            "border": null,
            "align_items": null,
            "bottom": null,
            "_model_module": "@jupyter-widgets/base",
            "top": null,
            "grid_column": null,
            "overflow_y": null,
            "overflow_x": null,
            "grid_auto_flow": null,
            "grid_area": null,
            "grid_template_columns": null,
            "flex": null,
            "_model_name": "LayoutModel",
            "justify_items": null,
            "grid_row": null,
            "max_height": null,
            "align_content": null,
            "visibility": null,
            "align_self": null,
            "height": null,
            "min_height": null,
            "padding": null,
            "grid_auto_rows": null,
            "grid_gap": null,
            "max_width": null,
            "order": null,
            "_view_module_version": "1.2.0",
            "grid_template_areas": null,
            "object_position": null,
            "object_fit": null,
            "grid_auto_columns": null,
            "margin": null,
            "display": null,
            "left": null
          }
        },
        "f669c34dcbd64d8f865b1655135acef4": {
          "model_module": "@jupyter-widgets/controls",
          "model_name": "HBoxModel",
          "state": {
            "_view_name": "HBoxView",
            "_dom_classes": [],
            "_model_name": "HBoxModel",
            "_view_module": "@jupyter-widgets/controls",
            "_model_module_version": "1.5.0",
            "_view_count": null,
            "_view_module_version": "1.5.0",
            "box_style": "",
            "layout": "IPY_MODEL_7f5ef6163cc54cbf9a1f3813ee4dad6c",
            "_model_module": "@jupyter-widgets/controls",
            "children": [
              "IPY_MODEL_68bc9833e7c64ab48acd706b15dda135",
              "IPY_MODEL_426def717c9740069b8c60f4f39cebfb"
            ]
          }
        },
        "7f5ef6163cc54cbf9a1f3813ee4dad6c": {
          "model_module": "@jupyter-widgets/base",
          "model_name": "LayoutModel",
          "state": {
            "_view_name": "LayoutView",
            "grid_template_rows": null,
            "right": null,
            "justify_content": null,
            "_view_module": "@jupyter-widgets/base",
            "overflow": null,
            "_model_module_version": "1.2.0",
            "_view_count": null,
            "flex_flow": null,
            "width": null,
            "min_width": null,
            "border": null,
            "align_items": null,
            "bottom": null,
            "_model_module": "@jupyter-widgets/base",
            "top": null,
            "grid_column": null,
            "overflow_y": null,
            "overflow_x": null,
            "grid_auto_flow": null,
            "grid_area": null,
            "grid_template_columns": null,
            "flex": null,
            "_model_name": "LayoutModel",
            "justify_items": null,
            "grid_row": null,
            "max_height": null,
            "align_content": null,
            "visibility": null,
            "align_self": null,
            "height": null,
            "min_height": null,
            "padding": null,
            "grid_auto_rows": null,
            "grid_gap": null,
            "max_width": null,
            "order": null,
            "_view_module_version": "1.2.0",
            "grid_template_areas": null,
            "object_position": null,
            "object_fit": null,
            "grid_auto_columns": null,
            "margin": null,
            "display": null,
            "left": null
          }
        },
        "68bc9833e7c64ab48acd706b15dda135": {
          "model_module": "@jupyter-widgets/controls",
          "model_name": "FloatProgressModel",
          "state": {
            "_view_name": "ProgressView",
            "style": "IPY_MODEL_9bb31de592f548a4b194854270305ced",
            "_dom_classes": [],
            "description": "Downloading: 100%",
            "_model_name": "FloatProgressModel",
            "bar_style": "success",
            "max": 29,
            "_view_module": "@jupyter-widgets/controls",
            "_model_module_version": "1.5.0",
            "value": 29,
            "_view_count": null,
            "_view_module_version": "1.5.0",
            "orientation": "horizontal",
            "min": 0,
            "description_tooltip": null,
            "_model_module": "@jupyter-widgets/controls",
            "layout": "IPY_MODEL_9eebd8418a01450caba566597ce3d6ab"
          }
        },
        "426def717c9740069b8c60f4f39cebfb": {
          "model_module": "@jupyter-widgets/controls",
          "model_name": "HTMLModel",
          "state": {
            "_view_name": "HTMLView",
            "style": "IPY_MODEL_56d56b2a1bdf4325a151bbc499631723",
            "_dom_classes": [],
            "description": "",
            "_model_name": "HTMLModel",
            "placeholder": "​",
            "_view_module": "@jupyter-widgets/controls",
            "_model_module_version": "1.5.0",
            "value": " 29.0/29.0 [00:00&lt;00:00, 104B/s]",
            "_view_count": null,
            "_view_module_version": "1.5.0",
            "description_tooltip": null,
            "_model_module": "@jupyter-widgets/controls",
            "layout": "IPY_MODEL_261ee7bad03b43a4a1380075d7444e94"
          }
        },
        "9bb31de592f548a4b194854270305ced": {
          "model_module": "@jupyter-widgets/controls",
          "model_name": "ProgressStyleModel",
          "state": {
            "_view_name": "StyleView",
            "_model_name": "ProgressStyleModel",
            "description_width": "initial",
            "_view_module": "@jupyter-widgets/base",
            "_model_module_version": "1.5.0",
            "_view_count": null,
            "_view_module_version": "1.2.0",
            "bar_color": null,
            "_model_module": "@jupyter-widgets/controls"
          }
        },
        "9eebd8418a01450caba566597ce3d6ab": {
          "model_module": "@jupyter-widgets/base",
          "model_name": "LayoutModel",
          "state": {
            "_view_name": "LayoutView",
            "grid_template_rows": null,
            "right": null,
            "justify_content": null,
            "_view_module": "@jupyter-widgets/base",
            "overflow": null,
            "_model_module_version": "1.2.0",
            "_view_count": null,
            "flex_flow": null,
            "width": null,
            "min_width": null,
            "border": null,
            "align_items": null,
            "bottom": null,
            "_model_module": "@jupyter-widgets/base",
            "top": null,
            "grid_column": null,
            "overflow_y": null,
            "overflow_x": null,
            "grid_auto_flow": null,
            "grid_area": null,
            "grid_template_columns": null,
            "flex": null,
            "_model_name": "LayoutModel",
            "justify_items": null,
            "grid_row": null,
            "max_height": null,
            "align_content": null,
            "visibility": null,
            "align_self": null,
            "height": null,
            "min_height": null,
            "padding": null,
            "grid_auto_rows": null,
            "grid_gap": null,
            "max_width": null,
            "order": null,
            "_view_module_version": "1.2.0",
            "grid_template_areas": null,
            "object_position": null,
            "object_fit": null,
            "grid_auto_columns": null,
            "margin": null,
            "display": null,
            "left": null
          }
        },
        "56d56b2a1bdf4325a151bbc499631723": {
          "model_module": "@jupyter-widgets/controls",
          "model_name": "DescriptionStyleModel",
          "state": {
            "_view_name": "StyleView",
            "_model_name": "DescriptionStyleModel",
            "description_width": "",
            "_view_module": "@jupyter-widgets/base",
            "_model_module_version": "1.5.0",
            "_view_count": null,
            "_view_module_version": "1.2.0",
            "_model_module": "@jupyter-widgets/controls"
          }
        },
        "261ee7bad03b43a4a1380075d7444e94": {
          "model_module": "@jupyter-widgets/base",
          "model_name": "LayoutModel",
          "state": {
            "_view_name": "LayoutView",
            "grid_template_rows": null,
            "right": null,
            "justify_content": null,
            "_view_module": "@jupyter-widgets/base",
            "overflow": null,
            "_model_module_version": "1.2.0",
            "_view_count": null,
            "flex_flow": null,
            "width": null,
            "min_width": null,
            "border": null,
            "align_items": null,
            "bottom": null,
            "_model_module": "@jupyter-widgets/base",
            "top": null,
            "grid_column": null,
            "overflow_y": null,
            "overflow_x": null,
            "grid_auto_flow": null,
            "grid_area": null,
            "grid_template_columns": null,
            "flex": null,
            "_model_name": "LayoutModel",
            "justify_items": null,
            "grid_row": null,
            "max_height": null,
            "align_content": null,
            "visibility": null,
            "align_self": null,
            "height": null,
            "min_height": null,
            "padding": null,
            "grid_auto_rows": null,
            "grid_gap": null,
            "max_width": null,
            "order": null,
            "_view_module_version": "1.2.0",
            "grid_template_areas": null,
            "object_position": null,
            "object_fit": null,
            "grid_auto_columns": null,
            "margin": null,
            "display": null,
            "left": null
          }
        },
        "fdd2f5d5293f4df5816898f41c60b24e": {
          "model_module": "@jupyter-widgets/controls",
          "model_name": "HBoxModel",
          "state": {
            "_view_name": "HBoxView",
            "_dom_classes": [],
            "_model_name": "HBoxModel",
            "_view_module": "@jupyter-widgets/controls",
            "_model_module_version": "1.5.0",
            "_view_count": null,
            "_view_module_version": "1.5.0",
            "box_style": "",
            "layout": "IPY_MODEL_0487627c9b7f44cb82e7bf5b173457a0",
            "_model_module": "@jupyter-widgets/controls",
            "children": [
              "IPY_MODEL_704dba560f2447fcaea245118e6e4753",
              "IPY_MODEL_581ca15f3f6c4089a5a8f82adf3b491c"
            ]
          }
        },
        "0487627c9b7f44cb82e7bf5b173457a0": {
          "model_module": "@jupyter-widgets/base",
          "model_name": "LayoutModel",
          "state": {
            "_view_name": "LayoutView",
            "grid_template_rows": null,
            "right": null,
            "justify_content": null,
            "_view_module": "@jupyter-widgets/base",
            "overflow": null,
            "_model_module_version": "1.2.0",
            "_view_count": null,
            "flex_flow": null,
            "width": null,
            "min_width": null,
            "border": null,
            "align_items": null,
            "bottom": null,
            "_model_module": "@jupyter-widgets/base",
            "top": null,
            "grid_column": null,
            "overflow_y": null,
            "overflow_x": null,
            "grid_auto_flow": null,
            "grid_area": null,
            "grid_template_columns": null,
            "flex": null,
            "_model_name": "LayoutModel",
            "justify_items": null,
            "grid_row": null,
            "max_height": null,
            "align_content": null,
            "visibility": null,
            "align_self": null,
            "height": null,
            "min_height": null,
            "padding": null,
            "grid_auto_rows": null,
            "grid_gap": null,
            "max_width": null,
            "order": null,
            "_view_module_version": "1.2.0",
            "grid_template_areas": null,
            "object_position": null,
            "object_fit": null,
            "grid_auto_columns": null,
            "margin": null,
            "display": null,
            "left": null
          }
        },
        "704dba560f2447fcaea245118e6e4753": {
          "model_module": "@jupyter-widgets/controls",
          "model_name": "FloatProgressModel",
          "state": {
            "_view_name": "ProgressView",
            "style": "IPY_MODEL_b732c93bbc6149fc8a1f16cbb487d4c1",
            "_dom_classes": [],
            "description": "Downloading: 100%",
            "_model_name": "FloatProgressModel",
            "bar_style": "success",
            "max": 213450,
            "_view_module": "@jupyter-widgets/controls",
            "_model_module_version": "1.5.0",
            "value": 213450,
            "_view_count": null,
            "_view_module_version": "1.5.0",
            "orientation": "horizontal",
            "min": 0,
            "description_tooltip": null,
            "_model_module": "@jupyter-widgets/controls",
            "layout": "IPY_MODEL_2f73c76b3fbd4346bc3414abe6d4a074"
          }
        },
        "581ca15f3f6c4089a5a8f82adf3b491c": {
          "model_module": "@jupyter-widgets/controls",
          "model_name": "HTMLModel",
          "state": {
            "_view_name": "HTMLView",
            "style": "IPY_MODEL_3d8a4db9ddfd46f48602e61f7ac43c61",
            "_dom_classes": [],
            "description": "",
            "_model_name": "HTMLModel",
            "placeholder": "​",
            "_view_module": "@jupyter-widgets/controls",
            "_model_module_version": "1.5.0",
            "value": " 213k/213k [13:40&lt;00:00, 260B/s]",
            "_view_count": null,
            "_view_module_version": "1.5.0",
            "description_tooltip": null,
            "_model_module": "@jupyter-widgets/controls",
            "layout": "IPY_MODEL_392226f53874441eadb3c53b0c3b018e"
          }
        },
        "b732c93bbc6149fc8a1f16cbb487d4c1": {
          "model_module": "@jupyter-widgets/controls",
          "model_name": "ProgressStyleModel",
          "state": {
            "_view_name": "StyleView",
            "_model_name": "ProgressStyleModel",
            "description_width": "initial",
            "_view_module": "@jupyter-widgets/base",
            "_model_module_version": "1.5.0",
            "_view_count": null,
            "_view_module_version": "1.2.0",
            "bar_color": null,
            "_model_module": "@jupyter-widgets/controls"
          }
        },
        "2f73c76b3fbd4346bc3414abe6d4a074": {
          "model_module": "@jupyter-widgets/base",
          "model_name": "LayoutModel",
          "state": {
            "_view_name": "LayoutView",
            "grid_template_rows": null,
            "right": null,
            "justify_content": null,
            "_view_module": "@jupyter-widgets/base",
            "overflow": null,
            "_model_module_version": "1.2.0",
            "_view_count": null,
            "flex_flow": null,
            "width": null,
            "min_width": null,
            "border": null,
            "align_items": null,
            "bottom": null,
            "_model_module": "@jupyter-widgets/base",
            "top": null,
            "grid_column": null,
            "overflow_y": null,
            "overflow_x": null,
            "grid_auto_flow": null,
            "grid_area": null,
            "grid_template_columns": null,
            "flex": null,
            "_model_name": "LayoutModel",
            "justify_items": null,
            "grid_row": null,
            "max_height": null,
            "align_content": null,
            "visibility": null,
            "align_self": null,
            "height": null,
            "min_height": null,
            "padding": null,
            "grid_auto_rows": null,
            "grid_gap": null,
            "max_width": null,
            "order": null,
            "_view_module_version": "1.2.0",
            "grid_template_areas": null,
            "object_position": null,
            "object_fit": null,
            "grid_auto_columns": null,
            "margin": null,
            "display": null,
            "left": null
          }
        },
        "3d8a4db9ddfd46f48602e61f7ac43c61": {
          "model_module": "@jupyter-widgets/controls",
          "model_name": "DescriptionStyleModel",
          "state": {
            "_view_name": "StyleView",
            "_model_name": "DescriptionStyleModel",
            "description_width": "",
            "_view_module": "@jupyter-widgets/base",
            "_model_module_version": "1.5.0",
            "_view_count": null,
            "_view_module_version": "1.2.0",
            "_model_module": "@jupyter-widgets/controls"
          }
        },
        "392226f53874441eadb3c53b0c3b018e": {
          "model_module": "@jupyter-widgets/base",
          "model_name": "LayoutModel",
          "state": {
            "_view_name": "LayoutView",
            "grid_template_rows": null,
            "right": null,
            "justify_content": null,
            "_view_module": "@jupyter-widgets/base",
            "overflow": null,
            "_model_module_version": "1.2.0",
            "_view_count": null,
            "flex_flow": null,
            "width": null,
            "min_width": null,
            "border": null,
            "align_items": null,
            "bottom": null,
            "_model_module": "@jupyter-widgets/base",
            "top": null,
            "grid_column": null,
            "overflow_y": null,
            "overflow_x": null,
            "grid_auto_flow": null,
            "grid_area": null,
            "grid_template_columns": null,
            "flex": null,
            "_model_name": "LayoutModel",
            "justify_items": null,
            "grid_row": null,
            "max_height": null,
            "align_content": null,
            "visibility": null,
            "align_self": null,
            "height": null,
            "min_height": null,
            "padding": null,
            "grid_auto_rows": null,
            "grid_gap": null,
            "max_width": null,
            "order": null,
            "_view_module_version": "1.2.0",
            "grid_template_areas": null,
            "object_position": null,
            "object_fit": null,
            "grid_auto_columns": null,
            "margin": null,
            "display": null,
            "left": null
          }
        },
        "ec0d451f66f440acabc69f613960866b": {
          "model_module": "@jupyter-widgets/controls",
          "model_name": "HBoxModel",
          "state": {
            "_view_name": "HBoxView",
            "_dom_classes": [],
            "_model_name": "HBoxModel",
            "_view_module": "@jupyter-widgets/controls",
            "_model_module_version": "1.5.0",
            "_view_count": null,
            "_view_module_version": "1.5.0",
            "box_style": "",
            "layout": "IPY_MODEL_652000b8faf54334b3399af7ce721ae2",
            "_model_module": "@jupyter-widgets/controls",
            "children": [
              "IPY_MODEL_55b81f20a3be45a1aa256344d31831a7",
              "IPY_MODEL_fdef262bdafc48b2b9d76f510c86d47f"
            ]
          }
        },
        "652000b8faf54334b3399af7ce721ae2": {
          "model_module": "@jupyter-widgets/base",
          "model_name": "LayoutModel",
          "state": {
            "_view_name": "LayoutView",
            "grid_template_rows": null,
            "right": null,
            "justify_content": null,
            "_view_module": "@jupyter-widgets/base",
            "overflow": null,
            "_model_module_version": "1.2.0",
            "_view_count": null,
            "flex_flow": null,
            "width": null,
            "min_width": null,
            "border": null,
            "align_items": null,
            "bottom": null,
            "_model_module": "@jupyter-widgets/base",
            "top": null,
            "grid_column": null,
            "overflow_y": null,
            "overflow_x": null,
            "grid_auto_flow": null,
            "grid_area": null,
            "grid_template_columns": null,
            "flex": null,
            "_model_name": "LayoutModel",
            "justify_items": null,
            "grid_row": null,
            "max_height": null,
            "align_content": null,
            "visibility": null,
            "align_self": null,
            "height": null,
            "min_height": null,
            "padding": null,
            "grid_auto_rows": null,
            "grid_gap": null,
            "max_width": null,
            "order": null,
            "_view_module_version": "1.2.0",
            "grid_template_areas": null,
            "object_position": null,
            "object_fit": null,
            "grid_auto_columns": null,
            "margin": null,
            "display": null,
            "left": null
          }
        },
        "55b81f20a3be45a1aa256344d31831a7": {
          "model_module": "@jupyter-widgets/controls",
          "model_name": "FloatProgressModel",
          "state": {
            "_view_name": "ProgressView",
            "style": "IPY_MODEL_bb8efb6c93294023b67ab4f343016859",
            "_dom_classes": [],
            "description": "Downloading: 100%",
            "_model_name": "FloatProgressModel",
            "bar_style": "success",
            "max": 435797,
            "_view_module": "@jupyter-widgets/controls",
            "_model_module_version": "1.5.0",
            "value": 435797,
            "_view_count": null,
            "_view_module_version": "1.5.0",
            "orientation": "horizontal",
            "min": 0,
            "description_tooltip": null,
            "_model_module": "@jupyter-widgets/controls",
            "layout": "IPY_MODEL_56549de6db6f4849be7a05bd7843d902"
          }
        },
        "fdef262bdafc48b2b9d76f510c86d47f": {
          "model_module": "@jupyter-widgets/controls",
          "model_name": "HTMLModel",
          "state": {
            "_view_name": "HTMLView",
            "style": "IPY_MODEL_a8ce2f8a48ad489b801314e43f50bb74",
            "_dom_classes": [],
            "description": "",
            "_model_name": "HTMLModel",
            "placeholder": "​",
            "_view_module": "@jupyter-widgets/controls",
            "_model_module_version": "1.5.0",
            "value": " 436k/436k [13:40&lt;00:00, 531B/s]",
            "_view_count": null,
            "_view_module_version": "1.5.0",
            "description_tooltip": null,
            "_model_module": "@jupyter-widgets/controls",
            "layout": "IPY_MODEL_326476693ab24310922db3fe28b55c54"
          }
        },
        "bb8efb6c93294023b67ab4f343016859": {
          "model_module": "@jupyter-widgets/controls",
          "model_name": "ProgressStyleModel",
          "state": {
            "_view_name": "StyleView",
            "_model_name": "ProgressStyleModel",
            "description_width": "initial",
            "_view_module": "@jupyter-widgets/base",
            "_model_module_version": "1.5.0",
            "_view_count": null,
            "_view_module_version": "1.2.0",
            "bar_color": null,
            "_model_module": "@jupyter-widgets/controls"
          }
        },
        "56549de6db6f4849be7a05bd7843d902": {
          "model_module": "@jupyter-widgets/base",
          "model_name": "LayoutModel",
          "state": {
            "_view_name": "LayoutView",
            "grid_template_rows": null,
            "right": null,
            "justify_content": null,
            "_view_module": "@jupyter-widgets/base",
            "overflow": null,
            "_model_module_version": "1.2.0",
            "_view_count": null,
            "flex_flow": null,
            "width": null,
            "min_width": null,
            "border": null,
            "align_items": null,
            "bottom": null,
            "_model_module": "@jupyter-widgets/base",
            "top": null,
            "grid_column": null,
            "overflow_y": null,
            "overflow_x": null,
            "grid_auto_flow": null,
            "grid_area": null,
            "grid_template_columns": null,
            "flex": null,
            "_model_name": "LayoutModel",
            "justify_items": null,
            "grid_row": null,
            "max_height": null,
            "align_content": null,
            "visibility": null,
            "align_self": null,
            "height": null,
            "min_height": null,
            "padding": null,
            "grid_auto_rows": null,
            "grid_gap": null,
            "max_width": null,
            "order": null,
            "_view_module_version": "1.2.0",
            "grid_template_areas": null,
            "object_position": null,
            "object_fit": null,
            "grid_auto_columns": null,
            "margin": null,
            "display": null,
            "left": null
          }
        },
        "a8ce2f8a48ad489b801314e43f50bb74": {
          "model_module": "@jupyter-widgets/controls",
          "model_name": "DescriptionStyleModel",
          "state": {
            "_view_name": "StyleView",
            "_model_name": "DescriptionStyleModel",
            "description_width": "",
            "_view_module": "@jupyter-widgets/base",
            "_model_module_version": "1.5.0",
            "_view_count": null,
            "_view_module_version": "1.2.0",
            "_model_module": "@jupyter-widgets/controls"
          }
        },
        "326476693ab24310922db3fe28b55c54": {
          "model_module": "@jupyter-widgets/base",
          "model_name": "LayoutModel",
          "state": {
            "_view_name": "LayoutView",
            "grid_template_rows": null,
            "right": null,
            "justify_content": null,
            "_view_module": "@jupyter-widgets/base",
            "overflow": null,
            "_model_module_version": "1.2.0",
            "_view_count": null,
            "flex_flow": null,
            "width": null,
            "min_width": null,
            "border": null,
            "align_items": null,
            "bottom": null,
            "_model_module": "@jupyter-widgets/base",
            "top": null,
            "grid_column": null,
            "overflow_y": null,
            "overflow_x": null,
            "grid_auto_flow": null,
            "grid_area": null,
            "grid_template_columns": null,
            "flex": null,
            "_model_name": "LayoutModel",
            "justify_items": null,
            "grid_row": null,
            "max_height": null,
            "align_content": null,
            "visibility": null,
            "align_self": null,
            "height": null,
            "min_height": null,
            "padding": null,
            "grid_auto_rows": null,
            "grid_gap": null,
            "max_width": null,
            "order": null,
            "_view_module_version": "1.2.0",
            "grid_template_areas": null,
            "object_position": null,
            "object_fit": null,
            "grid_auto_columns": null,
            "margin": null,
            "display": null,
            "left": null
          }
        }
      }
    }
  },
  "cells": [
    {
      "cell_type": "markdown",
      "metadata": {
        "id": "NqcCN4cRTb4L"
      },
      "source": [
        "<h1>AI in Fact and Fiction - Summer 2021</h1>\n",
        "<h2>Natural Language Proceesing</h2>\n",
        "\n",
        "In this lab, we will explore several natural lanugage processing techniques (including deep learning models) to perform some useful language tasks.\n",
        "\n",
        "* Use [Google Colab](https://colab.research.google.com/github/AIFictionFact/Summer2021/blob/master/lab3.ipynb) to run the python code, and to complete any missing lines of code.\n",
        "* You might find it helpful to save this notebook on your Google Drive.\n",
        "* Please make sure to fill the required information in the **Declaration** cell.\n",
        "* Once you complete the lab, please download the .ipynb file (File --> Download .ipynb).\n",
        "* Then, please use the following file naming convention to rename the downloaded python file lab3_YourRCS.ipynb (make sure to replace 'YourRCS' with your RCS ID, for example 'lab3_senevo.ipynb').\n",
        "* Submit the .ipynb file in LMS.\n",
        "\n",
        "<p>Due Date/Time: <b>Friday, Jul 23 1.00 PM ET</b></p>\n",
        "\n",
        "<p>Estimated Time Needed: <b>4 hours</b></p>\n",
        "\n",
        "<p>Total Tasks: <b>15</b></p>\n",
        "<p>Total Points: <b>50</b></p>\n",
        "\n",
        "<hr>"
      ]
    },
    {
      "cell_type": "markdown",
      "metadata": {
        "id": "hJplFC7iu8l_"
      },
      "source": [
        "\n",
        "**Declaration**\n",
        "\n",
        "*Your Name* :\n",
        "\n",
        "*Your RCS ID* :\n",
        "\n",
        "*Collaborators (if any)* :\n",
        "\n",
        "*Online Resources consulted (if any):*"
      ]
    },
    {
      "cell_type": "markdown",
      "metadata": {
        "id": "qmf8W2Gf9KwU"
      },
      "source": [
        "# Part 1 - Data Cleaning and Exploratory Data Analysis\n",
        "\n",
        "Data cleaning is a time consuming and unenjoyable task, yet it's a very important one. Keep in mind, \"garbage in, garbage out\". Feeding dirty data into a model will give us results that are meaningless.\n",
        "\n",
        "Specifically, we'll be walking through:\n",
        "\n",
        "1. **Getting the data** - in this case, we'll be scraping data from a website\n",
        "2. **Cleaning the data** - we will walk through popular text pre-processing techniques\n",
        "3. **Organizing the data** - we will organize the cleaned data into a way that is easy to input into other algorithms\n",
        "\n",
        "The output of this part of the lab will be clean, organized data in two standard text formats:\n",
        "\n",
        "* Corpus - a collection of text\n",
        "* Document-Term Matrix - word counts in matrix format\n",
        "\n",
        "We will try to scrape IMDB movie reviews from the IMDB website in this part."
      ]
    },
    {
      "cell_type": "markdown",
      "metadata": {
        "id": "M0zk-NDW9875"
      },
      "source": [
        "## Getting the Data\n",
        "\n",
        "This is the part where you have to do a bit of data sleuthing. I checked the IMDB Website and discovered that the movie reviews are available at \n",
        "https://www.imdb.com/title/[movie_id]/reviews, and that each individual review is in an HTML tag called \"content.\""
      ]
    },
    {
      "cell_type": "code",
      "metadata": {
        "colab": {
          "base_uri": "https://localhost:8080/"
        },
        "id": "sBzX1mwM98gp",
        "outputId": "3f9f82f3-2c8e-4af3-dcdd-405e02fd1422"
      },
      "source": [
        "# Web scraping, pickle imports\n",
        "import requests\n",
        "from bs4 import BeautifulSoup\n",
        "import pickle\n",
        "\n",
        "# Scrapes the reviews\n",
        "def url_to_review(url):\n",
        "    '''Returns review data specifically from imdb.com.'''\n",
        "    page = requests.get(url).text\n",
        "    soup = BeautifulSoup(page, \"html.parser\")\n",
        "    reviews = []\n",
        "    for row in soup.find_all(class_=\"content\"):\n",
        "      reviews.append(row.text)\n",
        "    return reviews\n",
        "\n",
        "# Names of the movies we have seen / will see in this class\n",
        "movies = ['The Day the Earth Stood Still', \n",
        "          '2001: A Space Odyssey', \n",
        "          'Short Circuit']\n",
        "\n",
        "# Movie Review URLs on IMDB \n",
        "urls = ['https://www.imdb.com/title/tt0043456/reviews',\n",
        "        'https://www.imdb.com/title/tt0062622/reviews',\n",
        "        'https://www.imdb.com/title/tt0091949/reviews']\n",
        "\n",
        "# This may takes a few minutes to run\n",
        "reviews = [url_to_review(u) for u in urls]\n",
        "\n",
        "print(reviews)"
      ],
      "execution_count": null,
      "outputs": []
    },
    {
      "cell_type": "markdown",
      "metadata": {
        "id": "LXf8BCqYGcBX"
      },
      "source": [
        "A good practice is to save (pickle) the files for later use. Also, note how we are replacing the spaces with underscores in the movie name."
      ]
    },
    {
      "cell_type": "code",
      "metadata": {
        "id": "z0S90D8NGkFo"
      },
      "source": [
        "# # Make a new directory to hold the text files. You need to run this only once.\n",
        "# !mkdir reviews\n",
        "\n",
        "for i, movie in enumerate(movies):\n",
        "    movie_file_name = movie.replace(\" \", \"_\")\n",
        "    with open(\"reviews/\" + movie_file_name + \".txt\", \"wb\") as file:\n",
        "        pickle.dump(reviews[i], file)"
      ],
      "execution_count": null,
      "outputs": []
    },
    {
      "cell_type": "markdown",
      "metadata": {
        "id": "7DKRYIkUHeQP"
      },
      "source": [
        "Now let's load the pickled files."
      ]
    },
    {
      "cell_type": "code",
      "metadata": {
        "id": "DWmvjwBeHjDR"
      },
      "source": [
        "# Load pickled files\n",
        "data = {}\n",
        "for i, movie in enumerate(movies):\n",
        "    movie_file_name = movie.replace(\" \", \"_\")\n",
        "    with open(\"reviews/\" + movie_file_name + \".txt\", \"rb\") as file:\n",
        "        data[movie] = pickle.load(file)"
      ],
      "execution_count": null,
      "outputs": []
    },
    {
      "cell_type": "markdown",
      "metadata": {
        "id": "raTkiHqWH3Zs"
      },
      "source": [
        "Let's double check if the data has been loaded properly."
      ]
    },
    {
      "cell_type": "code",
      "metadata": {
        "colab": {
          "base_uri": "https://localhost:8080/"
        },
        "id": "_C5IK_mDH7Sd",
        "outputId": "f2c7c911-b7e7-44ee-8365-1446ef75abf0"
      },
      "source": [
        "# Double check to make sure data has been loaded properly\n",
        "data.keys()"
      ],
      "execution_count": null,
      "outputs": []
    },
    {
      "cell_type": "markdown",
      "metadata": {
        "id": "C5R9ZZUIILkp"
      },
      "source": [
        "More checks."
      ]
    },
    {
      "cell_type": "code",
      "metadata": {
        "colab": {
          "base_uri": "https://localhost:8080/"
        },
        "id": "uDlB8OeOIMs8",
        "outputId": "c9eb07e5-9892-478e-d8b9-573b987fe44f"
      },
      "source": [
        "data['The Day the Earth Stood Still'][:2]"
      ],
      "execution_count": null,
      "outputs": []
    },
    {
      "cell_type": "markdown",
      "metadata": {
        "id": "HPO7viSJJaWV"
      },
      "source": [
        "### Task 1 (5 points)\n",
        "\n",
        "Write code to append your two favorite movies to the `movies` list and the `urls` list. Retrieve the reviews into a variable called `my_reviews`, and pickle those new movie reviews. Load the pickled files, print the total number of reviews for each movie, and the last review in the dataset for each movie."
      ]
    },
    {
      "cell_type": "code",
      "metadata": {
        "id": "x99wm7nNLlEN"
      },
      "source": [
        "# Type code for Task 1 here."
      ],
      "execution_count": null,
      "outputs": []
    },
    {
      "cell_type": "markdown",
      "metadata": {
        "id": "2m4MSi2ZL5Wz"
      },
      "source": [
        "## Cleaning the Data\n",
        "\n",
        "\n",
        "When dealing with numerical data, data cleaning often involves removing null values and duplicate data, dealing with outliers, etc. With text data, there are some common data cleaning techniques, which are also known as text pre-processing techniques.\n",
        "\n",
        "With text data, this cleaning process can go on forever. There's always an exception to every cleaning step. So, we're going to follow the MVP (minimum viable product) approach - start simple and iterate. Here are a bunch of things you can do to clean your data. We're going to execute just the common cleaning steps here and the rest can be done at a later point to improve our results.\n",
        "\n",
        "**Common data cleaning steps on all text:**\n",
        "\n",
        "* Make text all lower case\n",
        "* Remove punctuation\n",
        "* Remove numerical values\n",
        "* Remove common non-sensical text (/n)\n",
        "* Tokenize text\n",
        "* Remove stop words\n",
        "\n",
        "**More data cleaning steps after tokenization:** \n",
        "\n",
        "* Stemming / lemmatization\n",
        "* Parts of speech tagging\n",
        "* Create bi-grams or tri-grams\n",
        "* Deal with typos\n",
        "* And more..."
      ]
    },
    {
      "cell_type": "code",
      "metadata": {
        "colab": {
          "base_uri": "https://localhost:8080/",
          "height": 35
        },
        "id": "sha6eqDAMOuL",
        "outputId": "17eed7c6-ae21-467a-fb08-ee65b394c165"
      },
      "source": [
        "# Let's take a look at our data again\n",
        "next(iter(data.keys()))"
      ],
      "execution_count": null,
      "outputs": []
    },
    {
      "cell_type": "code",
      "metadata": {
        "colab": {
          "base_uri": "https://localhost:8080/"
        },
        "id": "8hD8ZbgOMTcH",
        "outputId": "8afea683-257f-4953-9fec-4a44b7358811"
      },
      "source": [
        "# Notice that our dictionary is currently in key: movie, value: list of text format\n",
        "next(iter(data.values()))"
      ],
      "execution_count": null,
      "outputs": []
    },
    {
      "cell_type": "code",
      "metadata": {
        "id": "bdIo_Hi1MbHR"
      },
      "source": [
        "# We are going to change this to key: movie, value: string format\n",
        "def combine_text(list_of_text):\n",
        "    '''Takes a list of text and combines them into one large chunk of text.'''\n",
        "    combined_text = ' '.join(list_of_text)\n",
        "    return combined_text\n",
        "\n",
        "# Combine it!\n",
        "data_combined = {key: [combine_text(value)] for (key, value) in data.items()}"
      ],
      "execution_count": null,
      "outputs": []
    },
    {
      "cell_type": "markdown",
      "metadata": {
        "id": "jBvEId5yMxaW"
      },
      "source": [
        "We can either keep it in dictionary format or put it into a pandas dataframe."
      ]
    },
    {
      "cell_type": "code",
      "metadata": {
        "colab": {
          "base_uri": "https://localhost:8080/",
          "height": 142
        },
        "id": "hcuqsJF5M0Eo",
        "outputId": "320a1699-6ed0-487b-eb22-bfaa8d4e51a1"
      },
      "source": [
        "import pandas as pd\n",
        "pd.set_option('max_colwidth',150)\n",
        "\n",
        "data_df = pd.DataFrame.from_dict(data_combined).transpose()\n",
        "data_df.columns = ['review']\n",
        "data_df = data_df.sort_index()\n",
        "data_df"
      ],
      "execution_count": null,
      "outputs": []
    },
    {
      "cell_type": "markdown",
      "metadata": {
        "id": "LT5UDF0iNDuI"
      },
      "source": [
        "Let's take a look at the reviews for \"The Day the Earth Stood Still\""
      ]
    },
    {
      "cell_type": "code",
      "metadata": {
        "colab": {
          "base_uri": "https://localhost:8080/",
          "height": 137
        },
        "id": "XWMyVJVRNKHT",
        "outputId": "15ba9db8-354e-489e-ba4c-98b31d37c50c"
      },
      "source": [
        "data_df.review.loc['The Day the Earth Stood Still']"
      ],
      "execution_count": null,
      "outputs": []
    },
    {
      "cell_type": "markdown",
      "metadata": {
        "id": "LvBwsZCKNYs_"
      },
      "source": [
        "Apply a first round of text cleaning techniques."
      ]
    },
    {
      "cell_type": "code",
      "metadata": {
        "id": "y3I6hpEKNbWx"
      },
      "source": [
        "# Apply a first round of text cleaning techniques\n",
        "import re\n",
        "import string\n",
        "\n",
        "def clean_text_round1(text):\n",
        "    '''Make text lowercase, remove text in square brackets, \n",
        "    remove punctuation and remove words containing numbers.'''\n",
        "    text = text.lower()\n",
        "    text = re.sub('\\[.*?\\]', '', text)\n",
        "    text = re.sub('[%s]' % re.escape(string.punctuation), '', text)\n",
        "    text = re.sub('\\w*\\d\\w*', '', text)\n",
        "    return text\n",
        "\n",
        "round1 = lambda x: clean_text_round1(x)"
      ],
      "execution_count": null,
      "outputs": []
    },
    {
      "cell_type": "markdown",
      "metadata": {
        "id": "BDhS0yGQNm42"
      },
      "source": [
        "Let's take a look at the updated text.\n"
      ]
    },
    {
      "cell_type": "code",
      "metadata": {
        "colab": {
          "base_uri": "https://localhost:8080/",
          "height": 142
        },
        "id": "1SylKg76No-k",
        "outputId": "ddb95f52-138c-465c-f9ee-3c4be44f86b9"
      },
      "source": [
        "data_clean = pd.DataFrame(data_df.review.apply(round1))\n",
        "data_clean"
      ],
      "execution_count": null,
      "outputs": []
    },
    {
      "cell_type": "markdown",
      "metadata": {
        "id": "k7IbnrVqOOtn"
      },
      "source": [
        "### Task 2 (5 points)\n",
        "\n",
        "Let's apply a second round of cleaning to get rid of some additional punctuation and non-sensical text that was missed the first time around. Hint: we do not want the `\\n`. Similary, please check the reviews to see if there are any such characters we need to clean out. Please complete the `clean_text_round2` function."
      ]
    },
    {
      "cell_type": "code",
      "metadata": {
        "id": "HJf6zGvFOwio"
      },
      "source": [
        "# Apply a second round of cleaning\n",
        "def clean_text_round2(text):\n",
        "    '''Get rid of some additional punctuation and non-sensical text that was missed the first time around.'''\n",
        "    # Type your code here\n",
        "    return text\n",
        "\n",
        "round2 = lambda x: clean_text_round2(x)"
      ],
      "execution_count": null,
      "outputs": []
    },
    {
      "cell_type": "markdown",
      "metadata": {
        "id": "ECGw4WPHPXgd"
      },
      "source": [
        "## Organizing The Data\n",
        "We mentioned earlier that the output of this notebook will be clean, organized data in two standard text formats:\n",
        "\n",
        "* Corpus - a collection of text\n",
        "* Document-Term Matrix - word counts in matrix format\n",
        "\n",
        "**Corpus**\n",
        "\n",
        "We already created a corpus in an earlier step. The definition of a corpus is a collection of texts, and they are all put together neatly in a pandas dataframe here."
      ]
    },
    {
      "cell_type": "code",
      "metadata": {
        "colab": {
          "base_uri": "https://localhost:8080/",
          "height": 142
        },
        "id": "rvO6rdXSPr5M",
        "outputId": "9da081ff-1f55-4c98-c00e-3f3103702c4b"
      },
      "source": [
        "# Let's take a look at our dataframe\n",
        "data_df"
      ],
      "execution_count": null,
      "outputs": []
    },
    {
      "cell_type": "code",
      "metadata": {
        "id": "Nk-Eb6AcPwBV"
      },
      "source": [
        "# Let's pickle it for later use\n",
        "data_df.to_pickle(\"corpus.pkl\")"
      ],
      "execution_count": null,
      "outputs": []
    },
    {
      "cell_type": "markdown",
      "metadata": {
        "id": "JCZbNuuCP2O-"
      },
      "source": [
        "**Document-Term Matrix**\n",
        "\n",
        "For many of the techniques we'll be doing later in this lab, the text must be tokenized, meaning broken down into smaller pieces. The most common tokenization technique is to break down text into words. We can do this using scikit-learn's CountVectorizer, where every row will represent a different document and every column will represent a different word.\n",
        "\n",
        "In addition, with CountVectorizer, we can remove stop words. Stop words are common words that add no additional meaning to text such as 'a', 'the', etc."
      ]
    },
    {
      "cell_type": "code",
      "metadata": {
        "colab": {
          "base_uri": "https://localhost:8080/",
          "height": 310
        },
        "id": "7YhIITDKQEF9",
        "outputId": "a4b9e448-ad28-4aa4-ded5-e544bcc05833"
      },
      "source": [
        "# We are going to create a document-term matrix using CountVectorizer, \n",
        "# and exclude common English stop words\n",
        "from sklearn.feature_extraction.text import CountVectorizer\n",
        "\n",
        "cv = CountVectorizer(stop_words='english')\n",
        "data_cv = cv.fit_transform(data_clean.review)\n",
        "data_dtm = pd.DataFrame(data_cv.toarray(), columns=cv.get_feature_names())\n",
        "data_dtm.index = data_clean.index\n",
        "data_dtm"
      ],
      "execution_count": null,
      "outputs": []
    },
    {
      "cell_type": "markdown",
      "metadata": {
        "id": "lt1zy82_QPp4"
      },
      "source": [
        "Let's pickle it for later use."
      ]
    },
    {
      "cell_type": "code",
      "metadata": {
        "id": "q_tVoEQxQQj7"
      },
      "source": [
        "data_dtm.to_pickle(\"dtm.pkl\")"
      ],
      "execution_count": null,
      "outputs": []
    },
    {
      "cell_type": "markdown",
      "metadata": {
        "id": "M0-RpVMpQXD9"
      },
      "source": [
        "Let's also pickle the cleaned data (before we put it in document-term matrix format) and the CountVectorizer object."
      ]
    },
    {
      "cell_type": "code",
      "metadata": {
        "id": "-LJIKRHGQalr"
      },
      "source": [
        "data_clean.to_pickle('data_clean.pkl')\n",
        "pickle.dump(cv, open(\"cv.pkl\", \"wb\"))"
      ],
      "execution_count": null,
      "outputs": []
    },
    {
      "cell_type": "markdown",
      "metadata": {
        "id": "vw2dP2djQo4_"
      },
      "source": [
        "### Task 3 (5 points)\n",
        "\n",
        "Play around with CountVectorizer's parameters. (Type your code in the cell below.)\n",
        "\n",
        "What is ngram_range? What is min_df? and max_df? (This is a written question, and please type your answer in the cell below the next.)"
      ]
    },
    {
      "cell_type": "code",
      "metadata": {
        "id": "2uYiwc0VQ0Yi"
      },
      "source": [
        "# Type your code to experiment with the CountVectorizer's parameters (2 points)"
      ],
      "execution_count": null,
      "outputs": []
    },
    {
      "cell_type": "markdown",
      "metadata": {
        "id": "Wxji_fBgRKk8"
      },
      "source": [
        "__What is ngram_range?__ (1 point)\n",
        "\n",
        "_Type your answer here_\n",
        "\n",
        "__What is min_df?__ (1 point)\n",
        "\n",
        "_Type your answer here_\n",
        "\n",
        "__What is max_df?__ (1 point)\n",
        "\n",
        "_Type your answer here_\n"
      ]
    },
    {
      "cell_type": "markdown",
      "metadata": {
        "id": "unoZGVEZSKAE"
      },
      "source": [
        "## Exploratory Data Analysis\n",
        "\n",
        "After the data cleaning step where we put our data into a few standard formats, the next step is to take a look at the data and see if what we're looking at makes sense. Before applying any fancy algorithms, it's always important to explore the data first.\n",
        "\n",
        "When working with numerical data, some of the exploratory data analysis (EDA) techniques we can use include finding the average of the data set, the distribution of the data, the most common values, etc. The idea is the same when working with text data. We are going to find some more obvious patterns with EDA before identifying the hidden patterns with machines learning (ML) techniques. We are going to look at the following for each comedian:\n",
        "\n",
        "1. **Most common words** - find these and create word clouds\n",
        "2. **Size of vocabulary** - look number of unique words\n",
        "\n",
        "### Most Common Words\n",
        "\n",
        "Read in the document-term matrix."
      ]
    },
    {
      "cell_type": "code",
      "metadata": {
        "colab": {
          "base_uri": "https://localhost:8080/",
          "height": 204
        },
        "id": "1Um39T3VSfUO",
        "outputId": "9296231d-ee7b-48e9-a9a0-371d411b467c"
      },
      "source": [
        "data = pd.read_pickle('dtm.pkl')\n",
        "data = data.transpose()\n",
        "data.head()"
      ],
      "execution_count": null,
      "outputs": []
    },
    {
      "cell_type": "markdown",
      "metadata": {
        "id": "8U3CDoCVSmkk"
      },
      "source": [
        "Find the top 30 words in the reviews."
      ]
    },
    {
      "cell_type": "code",
      "metadata": {
        "colab": {
          "base_uri": "https://localhost:8080/"
        },
        "id": "NXAP3AzBSqaL",
        "outputId": "c948bc79-1c43-4a89-bad7-15a7b3233424"
      },
      "source": [
        "top_dict = {}\n",
        "for c in data.columns:\n",
        "    top = data[c].sort_values(ascending=False).head(30)\n",
        "    top_dict[c]= list(zip(top.index, top.values))\n",
        "\n",
        "top_dict"
      ],
      "execution_count": null,
      "outputs": []
    },
    {
      "cell_type": "markdown",
      "metadata": {
        "id": "PZuOBgjQTS2T"
      },
      "source": [
        "Print the top 15 words in each movie review."
      ]
    },
    {
      "cell_type": "code",
      "metadata": {
        "colab": {
          "base_uri": "https://localhost:8080/"
        },
        "id": "1igTgtx1TbU3",
        "outputId": "391c6e01-d1c2-4d4e-fd02-a22121c986e9"
      },
      "source": [
        "for movie, top_words in top_dict.items():\n",
        "    print(movie)\n",
        "    print(', '.join([word for word, count in top_words[0:14]]))\n",
        "    print('---')"
      ],
      "execution_count": null,
      "outputs": []
    },
    {
      "cell_type": "markdown",
      "metadata": {
        "id": "vTEElPY7Ueq3"
      },
      "source": [
        "At this point, we could go on and create word clouds. However, by looking at these top words, you can see that some of them have very little meaning and could be added to a stop words list, so let's do just that."
      ]
    },
    {
      "cell_type": "code",
      "metadata": {
        "colab": {
          "base_uri": "https://localhost:8080/"
        },
        "id": "9nAISMsvUj4Q",
        "outputId": "081a7369-85b4-410c-f36d-dadc7b6c8b9f"
      },
      "source": [
        "# Look at the most common top words --> add them to the stop word list\n",
        "from collections import Counter\n",
        "\n",
        "# Let's first pull out the top 30 words for each comedian\n",
        "words = []\n",
        "for movie in data.columns:\n",
        "    top = [word for (word, count) in top_dict[movie]]\n",
        "    for t in top:\n",
        "        words.append(t)\n",
        "        \n",
        "words"
      ],
      "execution_count": null,
      "outputs": []
    },
    {
      "cell_type": "markdown",
      "metadata": {
        "id": "secu65BgUv2t"
      },
      "source": [
        "Let's aggregate this list and identify the most common words along with how many times they occur."
      ]
    },
    {
      "cell_type": "code",
      "metadata": {
        "colab": {
          "base_uri": "https://localhost:8080/"
        },
        "id": "jYkJmsU7U1B9",
        "outputId": "76ee7a18-dc47-470a-f70a-f6d3ea667c87"
      },
      "source": [
        "Counter(words).most_common()"
      ],
      "execution_count": null,
      "outputs": []
    },
    {
      "cell_type": "markdown",
      "metadata": {
        "id": "k3e2KIhfU5bg"
      },
      "source": [
        "If all the movies have it as a top word, exclude it from the list."
      ]
    },
    {
      "cell_type": "code",
      "metadata": {
        "colab": {
          "base_uri": "https://localhost:8080/"
        },
        "id": "-vlr-JPGVDmQ",
        "outputId": "cb2feae9-714c-4835-a3d0-fc8b9e1f8726"
      },
      "source": [
        "add_stop_words = [word for word, count in Counter(words).most_common() if count == len(movies)]\n",
        "add_stop_words"
      ],
      "execution_count": null,
      "outputs": []
    },
    {
      "cell_type": "markdown",
      "metadata": {
        "id": "OwLrp9F4VTQY"
      },
      "source": [
        "Let's update our document-term matrix with the new list of stop words.\n"
      ]
    },
    {
      "cell_type": "code",
      "metadata": {
        "id": "U_pSjGZwVXS-"
      },
      "source": [
        "from sklearn.feature_extraction import text \n",
        "from sklearn.feature_extraction.text import CountVectorizer\n",
        "\n",
        "# Read in cleaned data\n",
        "data_clean = pd.read_pickle('data_clean.pkl')\n",
        "\n",
        "# Add new stop words\n",
        "stop_words = text.ENGLISH_STOP_WORDS.union(add_stop_words)\n",
        "\n",
        "# Recreate document-term matrix\n",
        "cv = CountVectorizer(stop_words=stop_words)\n",
        "data_cv = cv.fit_transform(data_clean.review)\n",
        "data_stop = pd.DataFrame(data_cv.toarray(), columns=cv.get_feature_names())\n",
        "data_stop.index = data_clean.index\n",
        "\n",
        "# Pickle it for later use\n",
        "pickle.dump(cv, open(\"cv_stop.pkl\", \"wb\"))\n",
        "data_stop.to_pickle(\"dtm_stop.pkl\")"
      ],
      "execution_count": null,
      "outputs": []
    },
    {
      "cell_type": "markdown",
      "metadata": {
        "id": "pcFvZEAxVl4A"
      },
      "source": [
        "Let's make some word clouds!\n",
        "\n",
        "First, install the Wordclouds, if not installed already."
      ]
    },
    {
      "cell_type": "code",
      "metadata": {
        "colab": {
          "base_uri": "https://localhost:8080/"
        },
        "id": "OJdFy3CXVs0F",
        "outputId": "9756bb45-6fbf-41a8-c6fb-3ffd98f543db"
      },
      "source": [
        "#!pip install wordcloud"
      ],
      "execution_count": null,
      "outputs": []
    },
    {
      "cell_type": "code",
      "metadata": {
        "colab": {
          "base_uri": "https://localhost:8080/",
          "height": 143
        },
        "id": "kTHcl4y4WDxD",
        "outputId": "b05e2647-28d8-407b-c1c8-517d0ca9cc8a"
      },
      "source": [
        "from wordcloud import WordCloud\n",
        "import matplotlib.pyplot as plt\n",
        "\n",
        "wc = WordCloud(stopwords=stop_words, background_color=\"white\", colormap=\"Dark2\",\n",
        "               max_font_size=150, random_state=42)\n",
        "\n",
        "# Reset the output dimensions\n",
        "plt.rcParams['figure.figsize'] = [16, 6]\n",
        "\n",
        "# Create subplots for each movie\n",
        "for index, movie in enumerate(data.columns):\n",
        "    wc.generate(data_clean.review[movie])\n",
        "    \n",
        "    plt.subplot(3, 4, index+1)\n",
        "    plt.imshow(wc, interpolation=\"bilinear\")\n",
        "    plt.axis(\"off\")\n",
        "    plt.title(movie)\n",
        "    \n",
        "plt.show()"
      ],
      "execution_count": null,
      "outputs": []
    },
    {
      "cell_type": "markdown",
      "metadata": {
        "id": "7HzGVsHpyYQH"
      },
      "source": [
        "Find the number of unique words that each set of movie reviews have."
      ]
    },
    {
      "cell_type": "code",
      "metadata": {
        "colab": {
          "base_uri": "https://localhost:8080/",
          "height": 142
        },
        "id": "VmI7gv9uyrkB",
        "outputId": "4326bb69-7ced-4d8c-cad1-3119b66b1362"
      },
      "source": [
        "# Identify the non-zero items in the document-term matrix, meaning that the word occurs at least once\n",
        "unique_list = []\n",
        "for movie in data.columns:\n",
        "    uniques = data[movie].to_numpy().nonzero()[0].size\n",
        "    unique_list.append(uniques)\n",
        "\n",
        "# Create a new dataframe that contains this unique word count\n",
        "data_words = pd.DataFrame(list(zip(movies, unique_list)), columns=['movie', 'unique_words'])\n",
        "data_unique_sort = data_words.sort_values(by='unique_words')\n",
        "data_unique_sort"
      ],
      "execution_count": null,
      "outputs": []
    },
    {
      "cell_type": "markdown",
      "metadata": {
        "id": "QvzXp7tsy-J3"
      },
      "source": [
        "Let's plot our findings."
      ]
    },
    {
      "cell_type": "code",
      "metadata": {
        "colab": {
          "base_uri": "https://localhost:8080/",
          "height": 412
        },
        "id": "Go1Y6TzdzNx3",
        "outputId": "57796ebd-5caa-4ef1-eb9d-5d2ecf5f2313"
      },
      "source": [
        "import numpy as np\n",
        "\n",
        "y_pos = np.arange(len(data_words))\n",
        "\n",
        "plt.subplot(1, 2, 1)\n",
        "plt.barh(y_pos, data_unique_sort.unique_words, align='center')\n",
        "plt.yticks(y_pos, data_unique_sort.movie)\n",
        "plt.title('Number of Unique Words', fontsize=20)"
      ],
      "execution_count": null,
      "outputs": []
    },
    {
      "cell_type": "markdown",
      "metadata": {
        "id": "M13enlJ32Ru-"
      },
      "source": [
        "**Analysis of Specific Movies**\n",
        "\n",
        "Since these three movies feature Robots, Fiction, and Aliens, let's see how many times those words are mentioned in these movie reviews."
      ]
    },
    {
      "cell_type": "code",
      "metadata": {
        "colab": {
          "base_uri": "https://localhost:8080/"
        },
        "id": "APbEHjeL2hKC",
        "outputId": "b886b6a8-9e0d-4703-b297-3f5f98ae3374"
      },
      "source": [
        "Counter(words).most_common()"
      ],
      "execution_count": null,
      "outputs": []
    },
    {
      "cell_type": "markdown",
      "metadata": {
        "id": "syYNThim2plY"
      },
      "source": [
        "Let's isolate these words."
      ]
    },
    {
      "cell_type": "code",
      "metadata": {
        "colab": {
          "base_uri": "https://localhost:8080/",
          "height": 142
        },
        "id": "0xz9S4MO2sE5",
        "outputId": "e4f7820a-bc9f-45b9-df34-6a6f09bff6b4"
      },
      "source": [
        "# Let's isolate these words\n",
        "data_ff_words = data.transpose()[['robot', 'fiction', 'scifi', 'alien']]\n",
        "data_ff = pd.concat([data_ff_words.robot, data_ff_words.fiction + data_ff_words.scifi, data_ff_words.alien], axis=1)\n",
        "data_ff.columns = ['robot', 'fiction', 'alien']\n",
        "data_ff"
      ],
      "execution_count": null,
      "outputs": []
    },
    {
      "cell_type": "markdown",
      "metadata": {
        "id": "TK2feLk549nY"
      },
      "source": [
        "### Task 5 (2 points)\n",
        "\n",
        "What are some other techniques you can use to analyze the dataset? (This is a written task)."
      ]
    },
    {
      "cell_type": "markdown",
      "metadata": {
        "id": "8YbISFt65T5c"
      },
      "source": [
        "_Please type your answer here._"
      ]
    },
    {
      "cell_type": "markdown",
      "metadata": {
        "id": "2uBv-Iwx6EOV"
      },
      "source": [
        "# Part 2 - Sentiment Analysis\n",
        "\n",
        "So far, all of the analysis we've done has been pretty generic - looking at counts, creating scatter plots, etc. These techniques could be applied to numeric data as well.\n",
        "\n",
        "When it comes to text data, there are a few popular techniques that we'll be going through in the next few tasks, starting with sentiment analysis. A few key points to remember with sentiment analysis.\n",
        "\n",
        "**TextBlob Module:** Linguistic researchers have labeled the sentiment of words based on their domain expertise. Sentiment of words can vary based on where it is in a sentence. The TextBlob module allows us to take advantage of these labels.\n",
        "\n",
        "**Sentiment Labels:** Each word in a corpus is labeled in terms of polarity and subjectivity (there are more labels as well, but we're going to ignore them for now). A corpus' sentiment is the average of these.\n",
        "  * **Polarity:** How positive or negative a word is. -1 is very negative. +1 is very positive.\n",
        "  * **Subjectivity:** How subjective, or opinionated a word is. 0 is fact. +1 is very much an opinion.\n",
        "\n",
        "Let's take a look at the sentiment of the various movie reviews.\n",
        "\n",
        "We'll start by reading in the corpus, which preserves word order. Let's inspect the `corpus` real quickly."
      ]
    },
    {
      "cell_type": "code",
      "metadata": {
        "colab": {
          "base_uri": "https://localhost:8080/",
          "height": 142
        },
        "id": "DtAqHlDD6tOQ",
        "outputId": "e03c852b-faae-489b-af92-eb7d2f5ffb3c"
      },
      "source": [
        "data = pd.read_pickle('corpus.pkl')\n",
        "data"
      ],
      "execution_count": null,
      "outputs": []
    },
    {
      "cell_type": "markdown",
      "metadata": {
        "id": "nQiroqgW659_"
      },
      "source": [
        "We need to install TextBlob, if not already installed."
      ]
    },
    {
      "cell_type": "code",
      "metadata": {
        "colab": {
          "base_uri": "https://localhost:8080/"
        },
        "id": "030iF7Qb7Asc",
        "outputId": "01f0a7cf-0aaa-4515-8943-306aaa4805f1"
      },
      "source": [
        "#!pip install textblob"
      ],
      "execution_count": null,
      "outputs": []
    },
    {
      "cell_type": "markdown",
      "metadata": {
        "id": "4f4-jMrr7HSC"
      },
      "source": [
        "Let's create quick lambda functions to find the polarity and subjectivity of each review."
      ]
    },
    {
      "cell_type": "code",
      "metadata": {
        "colab": {
          "base_uri": "https://localhost:8080/",
          "height": 193
        },
        "id": "8tRRYdIb7N9n",
        "outputId": "3b6cf8fa-ec8f-4500-a93e-87779dbf23f7"
      },
      "source": [
        "from textblob import TextBlob\n",
        "\n",
        "pol = lambda x: TextBlob(x).sentiment.polarity\n",
        "sub = lambda x: TextBlob(x).sentiment.subjectivity\n",
        "\n",
        "data['polarity'] = data['review'].apply(pol)\n",
        "data['subjectivity'] = data['review'].apply(sub)\n",
        "data"
      ],
      "execution_count": null,
      "outputs": []
    },
    {
      "cell_type": "markdown",
      "metadata": {
        "id": "nb4553eA7bU7"
      },
      "source": [
        "Let's plot the results."
      ]
    },
    {
      "cell_type": "code",
      "metadata": {
        "colab": {
          "base_uri": "https://localhost:8080/",
          "height": 523
        },
        "id": "q7xwlNxf7d5M",
        "outputId": "f2a855c5-af62-424a-94aa-c7fd778df16e"
      },
      "source": [
        "plt.rcParams['figure.figsize'] = [10, 8]\n",
        "\n",
        "for index, movie in enumerate(data.index):\n",
        "    x = data.polarity.loc[movie]\n",
        "    y = data.subjectivity.loc[movie]\n",
        "    plt.scatter(x, y, color='blue')\n",
        "    plt.text(x+.001, y+.001, movie, fontsize=10)\n",
        "    plt.xlim(-.01, .2) \n",
        "    \n",
        "plt.title('Sentiment Analysis', fontsize=20)\n",
        "plt.xlabel('<-- Negative -------- Positive -->', fontsize=15)\n",
        "plt.ylabel('<-- Facts -------- Opinions -->', fontsize=15)\n",
        "\n",
        "plt.show()"
      ],
      "execution_count": null,
      "outputs": []
    },
    {
      "cell_type": "markdown",
      "metadata": {
        "id": "OsLT8aG0AwAl"
      },
      "source": [
        "### Task 6 (3 points)\n",
        "\n",
        "The sentiment we obtained was for the entire corpus. Please obtain the sentiment values for the first 5 reviews for each of the three movies.\n",
        "Please check out the TextBlob's sentiment analysis API for more information. https://textblob.readthedocs.io/en/dev/quickstart.html#sentiment-analysis"
      ]
    },
    {
      "cell_type": "code",
      "metadata": {
        "id": "-aOpix7xBT2f"
      },
      "source": [
        "# Type your answer here.\n"
      ],
      "execution_count": null,
      "outputs": []
    },
    {
      "cell_type": "markdown",
      "metadata": {
        "id": "l3SYWNhKGvUk"
      },
      "source": [
        "# Part 3 - Topic Modeling\n",
        "\n",
        "Another popular text analysis technique is called topic modeling. The ultimate goal of topic modeling is to find various topics that are present in your corpus. Each document in the corpus will be made up of at least one topic, if not multiple topics.\n",
        "\n",
        "We will be covering the steps on how to do **Latent Dirichlet Allocation (LDA)**, which is one of many topic modeling techniques. It was specifically designed for text data.\n",
        "\n",
        "To use a topic modeling technique, you need to provide (1) a document-term matrix and (2) the number of topics you would like the algorithm to pick up.\n",
        "\n",
        "Once the topic modeling technique is applied, your job as a human is to interpret the results and see if the mix of words in each topic make sense. If they don't make sense, you can try changing up the number of topics, the terms in the document-term matrix, model parameters, or even try a different model.\n",
        "\n",
        "First, let's read in our document-term matrix."
      ]
    },
    {
      "cell_type": "code",
      "metadata": {
        "colab": {
          "base_uri": "https://localhost:8080/",
          "height": 310
        },
        "id": "ctHiuHUUKIfF",
        "outputId": "56dd1485-25b0-4ad4-ce9e-129499ab293c"
      },
      "source": [
        "data = pd.read_pickle('dtm_stop.pkl')\n",
        "data"
      ],
      "execution_count": null,
      "outputs": []
    },
    {
      "cell_type": "markdown",
      "metadata": {
        "id": "nlB-Y_woKR44"
      },
      "source": [
        "Install the necessary modules for LDA with gensim (if not installed already)."
      ]
    },
    {
      "cell_type": "code",
      "metadata": {
        "colab": {
          "base_uri": "https://localhost:8080/"
        },
        "id": "2WYl8xV5KWZL",
        "outputId": "1835d173-2128-43a1-b19d-bae02ea1b756"
      },
      "source": [
        "#!pip install gensim"
      ],
      "execution_count": null,
      "outputs": []
    },
    {
      "cell_type": "markdown",
      "metadata": {
        "id": "SNDnL1qDKcAn"
      },
      "source": [
        "Import the necessary modules for LDA with gensim."
      ]
    },
    {
      "cell_type": "code",
      "metadata": {
        "id": "rdNShhfwKeCB"
      },
      "source": [
        "from gensim import matutils, models\n",
        "import scipy.sparse\n",
        "\n",
        "# import logging\n",
        "# logging.basicConfig(format='%(asctime)s : %(levelname)s : %(message)s', level=logging.INFO)"
      ],
      "execution_count": null,
      "outputs": []
    },
    {
      "cell_type": "markdown",
      "metadata": {
        "id": "wisVedDZKkvx"
      },
      "source": [
        "One of the required inputs is a term-document matrix."
      ]
    },
    {
      "cell_type": "code",
      "metadata": {
        "colab": {
          "base_uri": "https://localhost:8080/",
          "height": 204
        },
        "id": "7vElrfViKmgi",
        "outputId": "7dd8fcf7-00cf-4ad5-c51a-69f7e2f55814"
      },
      "source": [
        "tdm = data.transpose()\n",
        "tdm.head()"
      ],
      "execution_count": null,
      "outputs": []
    },
    {
      "cell_type": "markdown",
      "metadata": {
        "id": "hGQ4FBGtKp_l"
      },
      "source": [
        "We're going to put the term-document matrix into a new gensim format, from df --> sparse matrix --> gensim corpus."
      ]
    },
    {
      "cell_type": "code",
      "metadata": {
        "id": "Y9V8fvZrKtub"
      },
      "source": [
        "sparse_counts = scipy.sparse.csr_matrix(tdm)\n",
        "corpus = matutils.Sparse2Corpus(sparse_counts)"
      ],
      "execution_count": null,
      "outputs": []
    },
    {
      "cell_type": "markdown",
      "metadata": {
        "id": "fb-jfZGnKyN6"
      },
      "source": [
        "Gensim also requires dictionary of the all terms and their respective location in the term-document matrix."
      ]
    },
    {
      "cell_type": "code",
      "metadata": {
        "id": "ThEpqyXQKz18"
      },
      "source": [
        "cv = pickle.load(open(\"cv_stop.pkl\", \"rb\"))\n",
        "id2word = dict((v, k) for k, v in cv.vocabulary_.items())"
      ],
      "execution_count": null,
      "outputs": []
    },
    {
      "cell_type": "markdown",
      "metadata": {
        "id": "qVMnh3cSK4mQ"
      },
      "source": [
        "Now that we have the corpus (term-document matrix) and id2word (dictionary of location: term), we need to specify two other parameters - the number of topics and the number of passes. Let's start the number of topics at 2, see if the results make sense, and increase the number from there."
      ]
    },
    {
      "cell_type": "code",
      "metadata": {
        "colab": {
          "base_uri": "https://localhost:8080/"
        },
        "id": "yDRiOaL2K65d",
        "outputId": "29536c4c-761d-4d3e-9350-d671fd6b078d"
      },
      "source": [
        "lda = models.LdaModel(corpus=corpus, id2word=id2word, num_topics=2, passes=10)\n",
        "lda.print_topics()"
      ],
      "execution_count": null,
      "outputs": []
    },
    {
      "cell_type": "markdown",
      "metadata": {
        "id": "oIL43o0hLB9n"
      },
      "source": [
        "LDA for num_topics = 3"
      ]
    },
    {
      "cell_type": "code",
      "metadata": {
        "colab": {
          "base_uri": "https://localhost:8080/"
        },
        "id": "lGbVQBDkLCoS",
        "outputId": "353ce095-0269-4372-acbc-367065bcff1e"
      },
      "source": [
        "lda = models.LdaModel(corpus=corpus, id2word=id2word, num_topics=3, passes=10)\n",
        "lda.print_topics()"
      ],
      "execution_count": null,
      "outputs": []
    },
    {
      "cell_type": "markdown",
      "metadata": {
        "id": "UbZuFRZrLGMT"
      },
      "source": [
        "LDA for num_topics = 4"
      ]
    },
    {
      "cell_type": "code",
      "metadata": {
        "colab": {
          "base_uri": "https://localhost:8080/"
        },
        "id": "xVVNoDH_LOX0",
        "outputId": "b518d7c8-f8ea-47ca-b0ab-f3b598b44672"
      },
      "source": [
        "lda = models.LdaModel(corpus=corpus, id2word=id2word, num_topics=4, passes=10)\n",
        "lda.print_topics()"
      ],
      "execution_count": null,
      "outputs": []
    },
    {
      "cell_type": "markdown",
      "metadata": {
        "id": "CAIFDa84LPI0"
      },
      "source": [
        "These topics aren't looking too great. We've tried modifying our parameters. Let's try modifying our terms list as well.\n",
        "\n",
        "One popular trick is to look only at terms that are from one part of speech (only nouns, only adjectives, etc.).\n",
        "\n",
        "We will need to dowload the following packages from nltk."
      ]
    },
    {
      "cell_type": "code",
      "metadata": {
        "colab": {
          "base_uri": "https://localhost:8080/"
        },
        "id": "bvGW9spzMbFr",
        "outputId": "42d57544-1314-4f1f-ff1a-a62131f026c2"
      },
      "source": [
        "import nltk\n",
        "nltk.download('punkt')\n",
        "nltk.download('averaged_perceptron_tagger')"
      ],
      "execution_count": null,
      "outputs": []
    },
    {
      "cell_type": "markdown",
      "metadata": {
        "id": "SILsgV5bM9le"
      },
      "source": [
        "Let's create a function to pull out nouns from a string of text."
      ]
    },
    {
      "cell_type": "code",
      "metadata": {
        "id": "u3arwNlELgBs"
      },
      "source": [
        "from nltk import word_tokenize, pos_tag\n",
        "\n",
        "def nouns(text):\n",
        "    '''Given a string of text, tokenize the text and pull out only the nouns.'''\n",
        "    is_noun = lambda pos: pos[:2] == 'NN'\n",
        "    tokenized = word_tokenize(text)\n",
        "    all_nouns = [word for (word, pos) in pos_tag(tokenized) if is_noun(pos)] \n",
        "    return ' '.join(all_nouns)"
      ],
      "execution_count": null,
      "outputs": []
    },
    {
      "cell_type": "markdown",
      "metadata": {
        "id": "DMzrrn03MBBy"
      },
      "source": [
        "Read in the cleaned data, before the CountVectorizer step."
      ]
    },
    {
      "cell_type": "code",
      "metadata": {
        "colab": {
          "base_uri": "https://localhost:8080/",
          "height": 142
        },
        "id": "G8yjRcBgMCQR",
        "outputId": "cab9bd9c-78e9-4693-bb9e-96f574d89bcc"
      },
      "source": [
        "data_clean = pd.read_pickle('data_clean.pkl')\n",
        "data_clean"
      ],
      "execution_count": null,
      "outputs": []
    },
    {
      "cell_type": "markdown",
      "metadata": {
        "id": "jobkHKUEMHaI"
      },
      "source": [
        "Apply the nouns function to the transcripts to filter only on nouns."
      ]
    },
    {
      "cell_type": "code",
      "metadata": {
        "colab": {
          "base_uri": "https://localhost:8080/",
          "height": 142
        },
        "id": "unhpztvpMJNK",
        "outputId": "42d621e7-0d8d-4044-e753-62d03b05906b"
      },
      "source": [
        "data_nouns = pd.DataFrame(data_clean.review.apply(nouns))\n",
        "data_nouns"
      ],
      "execution_count": null,
      "outputs": []
    },
    {
      "cell_type": "markdown",
      "metadata": {
        "id": "HWVkQC1ONJ1Q"
      },
      "source": [
        "Create a new document-term matrix using only nouns."
      ]
    },
    {
      "cell_type": "code",
      "metadata": {
        "colab": {
          "base_uri": "https://localhost:8080/",
          "height": 310
        },
        "id": "zGt01EnzNMvQ",
        "outputId": "7019f517-050c-40f6-b3a1-5085352f3e1c"
      },
      "source": [
        "# Re-add the additional stop words since we are recreating the document-term matrix\n",
        "add_stop_words = ['like', 'im', 'know', 'just', 'dont', 'thats', 'right', 'people',\n",
        "                  'youre', 'got', 'gonna', 'time', 'think', 'yeah', 'said']\n",
        "stop_words = text.ENGLISH_STOP_WORDS.union(add_stop_words)\n",
        "\n",
        "# Recreate a document-term matrix with only nouns\n",
        "cvn = CountVectorizer(stop_words=stop_words)\n",
        "data_cvn = cvn.fit_transform(data_nouns.review)\n",
        "data_dtmn = pd.DataFrame(data_cvn.toarray(), columns=cvn.get_feature_names())\n",
        "data_dtmn.index = data_nouns.index\n",
        "data_dtmn"
      ],
      "execution_count": null,
      "outputs": []
    },
    {
      "cell_type": "code",
      "metadata": {
        "id": "Tg5Ht704NU8s"
      },
      "source": [
        "# Create the gensim corpus\n",
        "corpusn = matutils.Sparse2Corpus(scipy.sparse.csr_matrix(data_dtmn.transpose()))\n",
        "\n",
        "# Create the vocabulary dictionary\n",
        "id2wordn = dict((v, k) for k, v in cvn.vocabulary_.items())"
      ],
      "execution_count": null,
      "outputs": []
    },
    {
      "cell_type": "code",
      "metadata": {
        "colab": {
          "base_uri": "https://localhost:8080/"
        },
        "id": "FHj-kWwtNX9p",
        "outputId": "14cba45c-c2f6-416a-b060-d635441d3f47"
      },
      "source": [
        "# Let's start with 2 topics\n",
        "ldan = models.LdaModel(corpus=corpusn, num_topics=2, id2word=id2wordn, passes=10)\n",
        "ldan.print_topics()"
      ],
      "execution_count": null,
      "outputs": []
    },
    {
      "cell_type": "markdown",
      "metadata": {
        "id": "hNAQkPh_N-fX"
      },
      "source": [
        "### Task 7 (2 points)\n",
        "\n",
        "Write the code to print 3 topics on the document-term matrix with nouns. (1 point)\n",
        "\n",
        "What are the three topics you would determine out of the results you see. _(This is a written answer question.)_ (1 point)"
      ]
    },
    {
      "cell_type": "code",
      "metadata": {
        "id": "qKS00CvZTtXd"
      },
      "source": [
        "# Type your code here."
      ],
      "execution_count": null,
      "outputs": []
    },
    {
      "cell_type": "markdown",
      "metadata": {
        "id": "XVW6PPysTyMi"
      },
      "source": [
        "_Type your 3 chosen topics (1 point)_"
      ]
    },
    {
      "cell_type": "markdown",
      "metadata": {
        "id": "FLD7QzuEUDP4"
      },
      "source": [
        "### Task 8 (5 points)\n",
        "\n",
        "Complete the function to pull out both nouns and adjectives from a string of text. Adjectives are marked as 'JJ' in nltk. (2 points)\n",
        "\n",
        "Apply the `nouns_adj` function to the reviews and determine the 3 best topics. (1 point)\n",
        "\n",
        "What are the 3 best topics? How do they compare to the previous topics you selected? (2 points)\n"
      ]
    },
    {
      "cell_type": "code",
      "metadata": {
        "id": "ObYxuBvTUorr"
      },
      "source": [
        "def nouns_adj(text):\n",
        "  # Type your code to complete the function.\n",
        "  return #fix me\n",
        "\n",
        "corpusna = \"\" #fix me\n",
        "\n",
        "# Apply the `nouns_adj` function to the reviews and determine the 3 best topics\n",
        "ldana = \"\" # fix me"
      ],
      "execution_count": null,
      "outputs": []
    },
    {
      "cell_type": "markdown",
      "metadata": {
        "id": "4T7totjJVwDr"
      },
      "source": [
        "_Please type your answer to \"What are the 3 best topics\"? (1 point)_\n",
        "\n",
        " _Please type your answer to \"How do they compare to the previous topics you selected?\" (1 point)_"
      ]
    },
    {
      "cell_type": "markdown",
      "metadata": {
        "id": "JW3AZuiLZSd6"
      },
      "source": [
        "**Identify topics in the reviews for each movie**\n",
        "\n",
        "Let's take a look at which topic each set of movie reviews contains. If you have defined `corpusna` and `ldana` correctly above, the following code should run and display the topics for each movie based on their IMDB reviews."
      ]
    },
    {
      "cell_type": "code",
      "metadata": {
        "colab": {
          "base_uri": "https://localhost:8080/",
          "height": 181
        },
        "id": "dyaAUUoKaPZx",
        "outputId": "e52090e6-2cb2-4b9b-fddf-99ae1fe6ad16"
      },
      "source": [
        "corpus_transformed = ldana[corpusna]\n",
        "list(zip([a for [(a,b)] in corpus_transformed], data_dtmna.index))"
      ],
      "execution_count": null,
      "outputs": []
    },
    {
      "cell_type": "markdown",
      "metadata": {
        "id": "WtFOYg89otdU"
      },
      "source": [
        "# Part 4 - Word Vectors\n",
        "\n",
        "Next, we turn our attention to some of the mode advanced (and recent) deep learning NLP libraries to learn aboout vector representations of language .\n",
        "\n",
        "First, we will take a look at [Spacy](https://spacy.io).\n",
        "\n",
        "Let's first install spacy (if not installed already).\n",
        "\n"
      ]
    },
    {
      "cell_type": "code",
      "metadata": {
        "colab": {
          "base_uri": "https://localhost:8080/"
        },
        "id": "ngG89HoEMN_g",
        "outputId": "ab621b8d-0a10-4f3d-e7fc-5f2f559d7017"
      },
      "source": [
        "!pip install -U spacy\n",
        "!python -m spacy download en_core_web_md"
      ],
      "execution_count": null,
      "outputs": []
    },
    {
      "cell_type": "markdown",
      "metadata": {
        "id": "gWhD1kjnMigT"
      },
      "source": [
        "spaCy can compare two objects and predict how similar they are – for example, documents, spans or single tokens.\n",
        "\n",
        "The Doc, Token and Span objects have a .similarity method that takes another object and returns a floating point number between 0 and 1, indicating how similar they are.\n",
        "\n",
        "One thing that's very important: In order to use similarity, you need a larger spaCy model that has word vectors included.\n",
        "\n",
        "For example, the medium or large English model – but not the small one. So if you want to use vectors, always go with a model that ends in \"md\" or \"lg\". You can find more details on this in the [models documentation](https://spacy.io/models).\n",
        "\n",
        "Here's an example. Let's say we want to find out whether two documents are similar.\n",
        "\n",
        "First, we load the medium English model, \"en_core_web_md\".\n",
        "\n",
        "We can then create two doc objects and use the first doc's similarity method to compare it to the second.\n",
        "\n",
        "Here, a fairly high similarity score of 0.86 is predicted for \"I like fast food\" and \"I like pizza\".\n",
        "\n",
        "The same works for tokens.\n",
        "\n",
        "According to the word vectors, the tokens \"pizza\" and \"pasta\" are kind of similar, and receive a high score."
      ]
    },
    {
      "cell_type": "code",
      "metadata": {
        "colab": {
          "base_uri": "https://localhost:8080/"
        },
        "id": "1uUu_VaIM-1y",
        "outputId": "01e3be78-553e-4826-93f6-4cbba4f283b0"
      },
      "source": [
        "import spacy\n",
        "# Load the model with vectors\n",
        "nlp = spacy.load(\"en_core_web_md\")\n",
        "\n",
        "# Compare two documents\n",
        "doc1 = nlp(\"I like fast food\")\n",
        "doc2 = nlp(\"I like pizza\")\n",
        "print(doc1.similarity(doc2))"
      ],
      "execution_count": null,
      "outputs": []
    },
    {
      "cell_type": "markdown",
      "metadata": {
        "id": "wkVAGqLiOQp3"
      },
      "source": [
        "### Task 9 (2 points)\n",
        "\n",
        "Obtain 2 movies reviews from our mini-movie review corpus and see how similar they are."
      ]
    },
    {
      "cell_type": "code",
      "metadata": {
        "id": "arCffAdPO304"
      },
      "source": [
        "# Type your code here"
      ],
      "execution_count": null,
      "outputs": []
    },
    {
      "cell_type": "markdown",
      "metadata": {
        "id": "HPEWhQafPAXk"
      },
      "source": [
        "**Word vectors in Spacy**\n",
        "\n",
        "To give you an idea of what those vectors look like, here's an example.\n",
        "\n",
        "First, we load the medium model again, which ships with word vectors.\n",
        "\n",
        "Next, we can process a text and look up a token's vector using the .vector attribute.\n",
        "\n",
        "The result is a 300-dimensional vector of the word \"movie\"."
      ]
    },
    {
      "cell_type": "code",
      "metadata": {
        "colab": {
          "base_uri": "https://localhost:8080/"
        },
        "id": "B-WJk8mGPR8s",
        "outputId": "8386a098-9efb-4b2a-a4f0-d96d31cd2880"
      },
      "source": [
        "# Load a larger model with vectors\n",
        "nlp = spacy.load(\"en_core_web_md\")\n",
        "\n",
        "doc = nlp(\"movie\")\n",
        "# Access the vector via the token.vector attribute\n",
        "print(doc.vector)"
      ],
      "execution_count": null,
      "outputs": []
    },
    {
      "cell_type": "markdown",
      "metadata": {
        "id": "FQHnWH7wPkjb"
      },
      "source": [
        "Predicting similarity can be useful for many types of applications. For example, to recommend a user similar texts based on the ones they have read. It can also be helpful to flag duplicate content, like posts on an online platform.\n"
      ]
    },
    {
      "cell_type": "code",
      "metadata": {
        "colab": {
          "base_uri": "https://localhost:8080/"
        },
        "id": "8HWpHCcVPobX",
        "outputId": "9a09e5f6-b548-4671-bda0-22a524645a92"
      },
      "source": [
        "review1 = \"I love the movie\"\n",
        "review2 = \"I hate the movie\"\n",
        "\n",
        "doc1 = nlp(review1)\n",
        "doc2 = nlp(review2)\n",
        "\n",
        "print(doc1.similarity(doc2))"
      ],
      "execution_count": null,
      "outputs": []
    },
    {
      "cell_type": "markdown",
      "metadata": {
        "id": "UWtL33eDYo6j"
      },
      "source": [
        "### Task 10 (2 points)\n",
        "\n",
        "The similarity of the statements \"I like the movie\" and \"I hate the movie\" received a high score in the vector space, despite being opposites. What might this be? _(This is a written answer question)._"
      ]
    },
    {
      "cell_type": "markdown",
      "metadata": {
        "id": "kgN2KdJRZLiU"
      },
      "source": [
        "_Type your answer here._"
      ]
    },
    {
      "cell_type": "markdown",
      "metadata": {
        "id": "U_mAde0lACRP"
      },
      "source": [
        "# Part 5 - Text Classification, Generation, and Summarization\n",
        "\n"
      ]
    },
    {
      "cell_type": "markdown",
      "metadata": {
        "id": "xwaGV_5GMFj8"
      },
      "source": [
        "In this part of the lab, we will be exploring the [HuggingFace](https:/huggingface.co/) library that implements the state of the art transformer models we discussed in class.\n",
        "\n",
        "Let's first install `transformers` if not installed already."
      ]
    },
    {
      "cell_type": "code",
      "metadata": {
        "colab": {
          "base_uri": "https://localhost:8080/"
        },
        "id": "XZxw8iGvZ4r2",
        "outputId": "3ac0d485-0d98-486a-b08e-8da4ad7141ac"
      },
      "source": [
        "!pip install transformers[sentencepiece]"
      ],
      "execution_count": null,
      "outputs": []
    },
    {
      "cell_type": "markdown",
      "metadata": {
        "id": "bqXE49D0a2DX"
      },
      "source": [
        "Before we move on to text generation, let's see how transformers can perform some of the tasks we already covered in this lab.\n",
        "\n",
        "Note: these transformer models are really large. For example, BERT-large has 24-layers and  a total of 340M parameters! Altogether it is 1.34GB, so expect these transformer models to take a couple minutes to download to your Colab instance.  (Note that this download is not using your own network bandwidth or your Google Drive space--it's between the Google instance and wherever the model is stored on the web).\n",
        "\n",
        "**Sentiment Analysis**"
      ]
    },
    {
      "cell_type": "code",
      "metadata": {
        "colab": {
          "base_uri": "https://localhost:8080/"
        },
        "id": "P_o8JqrubHlZ",
        "outputId": "a42c3ba6-e2a1-423d-872d-c07e0a6136d6"
      },
      "source": [
        "from transformers import pipeline\n",
        "\n",
        "classifier = pipeline(\"sentiment-analysis\")\n",
        "reviews = [\n",
        "    review1,\n",
        "    review2,\n",
        "]\n",
        "review_sentiment = classifier(reviews)\n",
        "result = \"\\n\".join(\"{} {}\".format(x, y) for x, y in zip(reviews, review_sentiment))\n",
        "print(result)"
      ],
      "execution_count": null,
      "outputs": []
    },
    {
      "cell_type": "markdown",
      "metadata": {
        "id": "tRLY_JU8cGuO"
      },
      "source": [
        "### Task 11 (2 points)\n",
        "\n",
        "Using HuggingFace's transformer library, print the sentiment scores of at least two random movie reviews from each of the movies in our small IMDB corpus. If there are `n` movies, you must print at most `2n` sentiment scores."
      ]
    },
    {
      "cell_type": "code",
      "metadata": {
        "id": "qcDGyVzDcrFb"
      },
      "source": [
        "#Type your code here"
      ],
      "execution_count": null,
      "outputs": []
    },
    {
      "cell_type": "markdown",
      "metadata": {
        "id": "exFWLT9nfQDj"
      },
      "source": [
        "**Text classification**\n",
        "\n",
        "The sentiment analysis we saw earlier can be thought of a type of a binary classification problem. However, a more challenging task is where we need to classify texts that haven’t been labelled. This is a common scenario in real-world application because annotating text is usually time-consuming and requires domain expertise. \n",
        "\n",
        "For this use case, the **zero-shot-classification** pipeline in HuggingFace is very powerful: it allows you to specify which labels to use for the classification, so you don’t have to rely on the labels of the pretrained model. You’ve already seen how the model can classify a sentence as positive or negative using those two labels — but it can also classify the text using any other set of labels you like.\n",
        "\n",
        "We will use the description of the AI in Fact and Fiction class, and along with several candidate topics, let's see what the transformer model classifies this text to be. As you can see, the category \"Education\" has a higher score."
      ]
    },
    {
      "cell_type": "code",
      "metadata": {
        "colab": {
          "base_uri": "https://localhost:8080/"
        },
        "id": "HIgAGqXhgQDz",
        "outputId": "97fe96e7-fb45-4b92-fe25-b8cac2466849"
      },
      "source": [
        "course_description = '''The class will explore current AI topics through reading, writing, programming,\n",
        "and exploring some of the classic fiction that has former people's (mis)perceptions\n",
        "of machine intelligence. This course will give students an appreciation on how to\n",
        "separate fiction from fact, and how to critically evaluate the impact current and\n",
        "upcoming AI topics will have on society.'''\n",
        "text_classifier = pipeline(\"zero-shot-classification\")\n",
        "text_classifier(\n",
        "    course_description,\n",
        "    candidate_labels=[\"education\", \"politics\", \"business\"],\n",
        ")"
      ],
      "execution_count": null,
      "outputs": []
    },
    {
      "cell_type": "markdown",
      "metadata": {
        "id": "Wpt9oFQhhHLk"
      },
      "source": [
        "### Task 12 (4 points)\n",
        "\n",
        "Using the entire IMDB movie review corpus, and the individual sets of movie reviews for each of the three movies we have seen / will be seeing in class, classify them according to 3 distinct topics (these topics cannot be the sentiment, i.e., positive or negative, or it cannot be \"review\"). (3 points)\n",
        "\n",
        "What are your observations on the topic distribution across the 3 movies based on their reviews? (1 point) _(This is a written answer question.)_"
      ]
    },
    {
      "cell_type": "code",
      "metadata": {
        "id": "OMMVQqfwjXah"
      },
      "source": [
        "# Type your code here"
      ],
      "execution_count": null,
      "outputs": []
    },
    {
      "cell_type": "markdown",
      "metadata": {
        "id": "NS8rDtATjagi"
      },
      "source": [
        "_Type your answer here_"
      ]
    },
    {
      "cell_type": "markdown",
      "metadata": {
        "id": "XiZmqXmwjf2q"
      },
      "source": [
        "**Text Generation**\n",
        "\n",
        "Now let’s see how to use a pipeline to generate some text. The main idea here is that you provide a prompt and the model will auto-complete it by generating the remaining text. This is similar to the predictive text feature that is found on many phones. Text generation involves randomness, so it’s normal if you don’t get the same results when you run the code again."
      ]
    },
    {
      "cell_type": "code",
      "metadata": {
        "colab": {
          "base_uri": "https://localhost:8080/"
        },
        "id": "2k1g6AB5jsir",
        "outputId": "54b87057-8eb8-4680-e1f8-a11aad810211"
      },
      "source": [
        "generator = pipeline(\"text-generation\")\n",
        "generator(\"In this course, we will teach you how to\")"
      ],
      "execution_count": null,
      "outputs": []
    },
    {
      "cell_type": "markdown",
      "metadata": {
        "id": "OR2HUmGJkWnC"
      },
      "source": [
        "**Using a specific model**\n",
        "\n",
        "The previous example used the default model for text generation, but you can also choose a particular model from the [Transformer Model Hub](https://huggingface.co/models). Go to the Model Hub and click on the corresponding tag on the left to display only the supported models a given task, i.e., text generation.\n",
        "\n",
        "Let’s try the distilgpt2 model! Here’s how to load it in the same pipeline as before:"
      ]
    },
    {
      "cell_type": "code",
      "metadata": {
        "colab": {
          "base_uri": "https://localhost:8080/",
          "height": 333,
          "referenced_widgets": [
            "45d05067404847f88aaee9fc386f39f6",
            "2f7f20c3104b4f70b852e2572b3ce785",
            "2d77311df05f44b3aa3d677244847e4b",
            "808c4d862bcd4c87bfa2be3a077ddd58",
            "49cab8ed24ed409bb9cbb62230371ec2",
            "2171b0531d134fb8b6ffaf3f9532e36e",
            "7b4dd3727b454d16b1fb07bea3844d73",
            "c9e7510a29fa4c6f93aa50431b24d65a",
            "f76829577721476cb587d7bab350760f",
            "0a4ea5a33fe34f54a986ba3fb3cc8340",
            "a7fc72eba2bb45678e43bd01c0405e9f",
            "ce5f99736b2e475c8283f88738a9a867",
            "0eea07a6079d49c68e713a932c649b3d",
            "708ced8fcf894bb197a72edb48831b07",
            "2a11518efd7043d3bb30af857d6753c1",
            "e79f4df72a3b444a8de8be2b05db533b",
            "421aa24fb82344768734142d6617a139",
            "c2a08002541b47a0bf04a60aaf753efd",
            "d70679ea07e34f15941885077217dba8",
            "d0a6c1a6945641af8f5fa70e8c5a2e7c",
            "2fa9df322cdc4c60a2226d84efa92591",
            "bbaa60f66081403888cf100d9bc7ae81",
            "cc65b1ebbe754d829a972c58931e1643",
            "e21daf80daa64d7a9bfa38d8d6ab0304",
            "5eb3bfd5b26e4558b71e8f288876010f",
            "e8919e8063b445f4b6224a3f2097899a",
            "cc9a4bbaa74c4fb2addaf3fe6065aece",
            "2674e4c9247040b69de43ad66e6d1f14",
            "adf0858f6c3049e89058049f37bee7dd",
            "093139512e874a0c9e7603aac9653f07",
            "e0b7c0db3eda414a914970095caefdcb",
            "99ae1fe4f7254e2391ceed4950194f0f",
            "195b38b8e5374478aed3aa1a032b8250",
            "4d1581ea30654daea6fdcde4211a38c3",
            "6a2d3bc214474e1ebecf6204eecd72ca",
            "c26a9d55dd024094a5d452ffd3f02efd",
            "0b8c192507824aefbf4ddcf4c08a3604",
            "3f5cf13c7d1f43a5811194d169fe1dca",
            "2589c4c227334f3a9c4b3d3777992e39",
            "091107904fc24a8aad364e660bcf8e49"
          ]
        },
        "id": "AxddNMwzk0J3",
        "outputId": "f7334c9a-2667-40e9-c839-ef648e71fac7"
      },
      "source": [
        "generator = pipeline(\"text-generation\", model=\"distilgpt2\")\n",
        "generator(\n",
        "    \"In this course, we will teach you how to\",\n",
        "    max_length=30,\n",
        "    num_return_sequences=2,\n",
        ")"
      ],
      "execution_count": null,
      "outputs": []
    },
    {
      "cell_type": "markdown",
      "metadata": {
        "id": "x1tkjVuOlFML"
      },
      "source": [
        "### Task 13 (3 points)\n",
        "\n",
        "Generate a movie review with at most 100 words for your favorite movie. You must use another model that is not `distilgpt2` for this task. Please check the available text generation models from the [Transformer Model Hub](https://huggingface.co/models) for this purpose. (2 points)\n",
        "\n",
        "How do you compare the quality of this review to the same review that would be generated from the `distilgpt2` model? (1 point) _(This is a written answer question.)_"
      ]
    },
    {
      "cell_type": "markdown",
      "metadata": {
        "id": "LGsHSVk_nvFf"
      },
      "source": [
        "**Text Summarization**\n",
        "\n",
        "Summarization is the task of reducing a text into a shorter text while keeping all (or most) of the important aspects referenced in the text. Here’s an example where we attempt to shorten the course description to 50 words:"
      ]
    },
    {
      "cell_type": "code",
      "metadata": {
        "colab": {
          "base_uri": "https://localhost:8080/"
        },
        "id": "ws8MO-92oBQi",
        "outputId": "969ec358-d2ba-4253-f54b-287f59e97fe5"
      },
      "source": [
        "summarizer = pipeline(\"summarization\")\n",
        "summarizer(course_description, max_length=20)"
      ],
      "execution_count": null,
      "outputs": []
    },
    {
      "cell_type": "markdown",
      "metadata": {
        "id": "f2AKeb_VoPrC"
      },
      "source": [
        "### Task 14 (2 points)\n",
        "\n",
        "Shorten the entire movie review corpus (i.e., all the reviews from all the movies) to 100 words."
      ]
    },
    {
      "cell_type": "code",
      "metadata": {
        "id": "CN78F_3ipjhW"
      },
      "source": [
        "# Type your code here."
      ],
      "execution_count": null,
      "outputs": []
    },
    {
      "cell_type": "markdown",
      "metadata": {
        "id": "mrRGIScITb4b"
      },
      "source": [
        "# Part 6 - Question Answering"
      ]
    },
    {
      "cell_type": "markdown",
      "metadata": {
        "id": "iADuVrt-Tb4b"
      },
      "source": [
        "**BERT**, or **B**idirectional **E**mbedding **R**epresentations from **T**ransformers, is a new method of training language representations which obtains state-of-the-art results on a wide array of Natural Language Processing (NLP) tasks. The academic paper can be found here: https://arxiv.org/abs/1810.04805. (You do not have to read it as part of this lab, but it is a good reference if you want to understand the inner-workings of BERT.) \n",
        "\n",
        "The model we are using in this lab is a pre-trained model released by Google that ran for many, many hours on Wikipedia, and [Book Corpus](https://arxiv.org/pdf/1506.06724.pdf), a dataset containing +10,000 books of different genres. For question answering, we could get decent results using a BERT model that's already been fine-tuned on the Stanford Question Answering Dataset (SQuAD) benchmark: https://rajpurkar.github.io/SQuAD-explorer/explore/v2.0/dev/. "
      ]
    },
    {
      "cell_type": "markdown",
      "metadata": {
        "id": "MRPyaVL1Tb4c"
      },
      "source": [
        "Import all the necessary libraries."
      ]
    },
    {
      "cell_type": "code",
      "metadata": {
        "colab": {
          "base_uri": "https://localhost:8080/",
          "height": 330,
          "referenced_widgets": [
            "29024433535a48bd96e8a6e4d53e9d20",
            "8a4b1d5429c741d396e5fcd33d733080",
            "bfe3113aca384285bbb094aadfac9b43",
            "edecef6347ee455bb1e79efde82314fb",
            "77f76583120e428ba2b4c9197756d91e",
            "749bcf0d77624f688c67a89c4d610230",
            "b0018b56eeb94ba39ab18077eab577de",
            "a70c65d061864b9b83e2a2ea1adc35ae",
            "0642d849c8504253a89d33da32b9066d",
            "893ac812adbc451d906233f9c3ec6840",
            "0c704f1af6b34f56bcc249f1f5dde642",
            "6d8eea6607fa4754b7d8fe4fa6c707fe",
            "f53b0172c0aa4756a76efde7a56c387b",
            "967268813a2345949e19d57660f4b6d9",
            "9f67272bde64467a9431e87c90f7c44f",
            "f69b2dcb65ba4e76ab3a56f2245f8280",
            "f669c34dcbd64d8f865b1655135acef4",
            "7f5ef6163cc54cbf9a1f3813ee4dad6c",
            "68bc9833e7c64ab48acd706b15dda135",
            "426def717c9740069b8c60f4f39cebfb",
            "9bb31de592f548a4b194854270305ced",
            "9eebd8418a01450caba566597ce3d6ab",
            "56d56b2a1bdf4325a151bbc499631723",
            "261ee7bad03b43a4a1380075d7444e94",
            "fdd2f5d5293f4df5816898f41c60b24e",
            "0487627c9b7f44cb82e7bf5b173457a0",
            "704dba560f2447fcaea245118e6e4753",
            "581ca15f3f6c4089a5a8f82adf3b491c",
            "b732c93bbc6149fc8a1f16cbb487d4c1",
            "2f73c76b3fbd4346bc3414abe6d4a074",
            "3d8a4db9ddfd46f48602e61f7ac43c61",
            "392226f53874441eadb3c53b0c3b018e",
            "ec0d451f66f440acabc69f613960866b",
            "652000b8faf54334b3399af7ce721ae2",
            "55b81f20a3be45a1aa256344d31831a7",
            "fdef262bdafc48b2b9d76f510c86d47f",
            "bb8efb6c93294023b67ab4f343016859",
            "56549de6db6f4849be7a05bd7843d902",
            "a8ce2f8a48ad489b801314e43f50bb74",
            "326476693ab24310922db3fe28b55c54"
          ]
        },
        "id": "1meTLDkBTb4d",
        "outputId": "23262a28-3cd5-45b2-b5f9-e59e4b46e6d7"
      },
      "source": [
        "question_answerer = pipeline(\"question-answering\")\n",
        "question_answerer(\n",
        "    question=\"What is this course about\",\n",
        "    context=course_description\n",
        ")"
      ],
      "execution_count": null,
      "outputs": []
    },
    {
      "cell_type": "markdown",
      "metadata": {
        "id": "poSfd8DHTb4g"
      },
      "source": [
        "### Task 15 (3 points)\n",
        "\n",
        "Let's get some answers to some questions about the movie \"The Day the Earth Stood Still\" based on the reviews for that movie. You must compile at least 5 questions about the movie from the review. Your code must use a specific question answer model from the [Transformer Model Hub](https://huggingface.co/models). (2 points)\n",
        "\n",
        "What is the model you selected, and why did you select it? (you may compare it with some other model and describe pros and cons of your chosen model) (1 point) _(This is a written answer question.)_"
      ]
    },
    {
      "cell_type": "code",
      "metadata": {
        "id": "OQ0Vc-1vTb4h"
      },
      "source": [
        "#Type your code here"
      ],
      "execution_count": null,
      "outputs": []
    },
    {
      "cell_type": "markdown",
      "metadata": {
        "id": "xiytTTAhzEi-"
      },
      "source": [
        "_Type your answer here_"
      ]
    }
  ]
}